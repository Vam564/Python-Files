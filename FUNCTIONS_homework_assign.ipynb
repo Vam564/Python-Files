{
  "nbformat": 4,
  "nbformat_minor": 0,
  "metadata": {
    "colab": {
      "name": "FUNCTIONS_homework_assign",
      "provenance": [],
      "collapsed_sections": [],
      "authorship_tag": "ABX9TyO789dISR+mGub+hj0gPkYl",
      "include_colab_link": true
    },
    "kernelspec": {
      "name": "python3",
      "display_name": "Python 3"
    },
    "language_info": {
      "name": "python"
    }
  },
  "cells": [
    {
      "cell_type": "markdown",
      "metadata": {
        "id": "view-in-github",
        "colab_type": "text"
      },
      "source": [
        "<a href=\"https://colab.research.google.com/github/Vam564/Python-Files/blob/main/FUNCTIONS_homework_assign.ipynb\" target=\"_parent\"><img src=\"https://colab.research.google.com/assets/colab-badge.svg\" alt=\"Open In Colab\"/></a>"
      ]
    },
    {
      "cell_type": "code",
      "metadata": {
        "colab": {
          "base_uri": "https://localhost:8080/"
        },
        "id": "nvYzh7msPzbW",
        "outputId": "b26ff371-dcb9-4212-8d9f-1a3543214aad"
      },
      "source": [
        "## do_twice function\n",
        "#1\n",
        "def do_twice(f):\n",
        "    f()\n",
        "    f()\n",
        "def sample_func():\n",
        "  print(\"Hello\")\n",
        "\n",
        "do_twice(sample_func)"
      ],
      "execution_count": 3,
      "outputs": [
        {
          "output_type": "stream",
          "name": "stdout",
          "text": [
            "Hello\n",
            "Hello\n"
          ]
        }
      ]
    },
    {
      "cell_type": "code",
      "metadata": {
        "colab": {
          "base_uri": "https://localhost:8080/"
        },
        "id": "Fp8-clmPQeQK",
        "outputId": "37250dd7-59f7-409b-8627-158d7eaed45f"
      },
      "source": [
        "#2.\n",
        "def do_twice(f,val):\n",
        "    f(val)\n",
        "    f(val)\n",
        "def sample_func(txt):\n",
        "  print(\"Hello\",txt)\n",
        "\n",
        "do_twice(sample_func,\"vamshi\")"
      ],
      "execution_count": 4,
      "outputs": [
        {
          "output_type": "stream",
          "name": "stdout",
          "text": [
            "Hello vamshi\n",
            "Hello vamshi\n"
          ]
        }
      ]
    },
    {
      "cell_type": "code",
      "metadata": {
        "colab": {
          "base_uri": "https://localhost:8080/"
        },
        "id": "OaEkWQ7sRIYv",
        "outputId": "f9c2da2e-ad5a-41a9-c29d-ae6a8be83c46"
      },
      "source": [
        "#3.\n",
        "y = \"Monster\"\n",
        "\n",
        "def print_twice(txt):\n",
        "  print(txt)\n",
        "  print(txt)\n",
        "\n",
        "print_twice(y)"
      ],
      "execution_count": 5,
      "outputs": [
        {
          "output_type": "stream",
          "name": "stdout",
          "text": [
            "Monster\n",
            "Monster\n"
          ]
        }
      ]
    },
    {
      "cell_type": "code",
      "metadata": {
        "colab": {
          "base_uri": "https://localhost:8080/"
        },
        "id": "i3EqBQVGSMPU",
        "outputId": "69fbcf9f-dc09-426b-e6ab-bdc4f9c53b36"
      },
      "source": [
        "#4.\n",
        "x = \"spam\"\n",
        "do_twice(print_twice,x)"
      ],
      "execution_count": 7,
      "outputs": [
        {
          "output_type": "stream",
          "name": "stdout",
          "text": [
            "spam\n",
            "spam\n",
            "spam\n",
            "spam\n"
          ]
        }
      ]
    },
    {
      "cell_type": "code",
      "metadata": {
        "colab": {
          "base_uri": "https://localhost:8080/"
        },
        "id": "kulBJVJASfhI",
        "outputId": "e836b3e5-8979-4909-8602-b3582b7d3ccd"
      },
      "source": [
        "#5.\n",
        "def do_four(f,val):\n",
        "  do_twice(f,val)\n",
        "  do_twice(f,val)\n",
        "\n",
        "do_four(sample_func,\"Vamshi\")"
      ],
      "execution_count": 9,
      "outputs": [
        {
          "output_type": "stream",
          "name": "stdout",
          "text": [
            "Hello Vamshi\n",
            "Hello Vamshi\n",
            "Hello Vamshi\n",
            "Hello Vamshi\n"
          ]
        }
      ]
    },
    {
      "cell_type": "code",
      "metadata": {
        "colab": {
          "base_uri": "https://localhost:8080/"
        },
        "id": "rXFFBmrNTAuT",
        "outputId": "48a7be16-15ce-485f-c7b6-0f44228122d2"
      },
      "source": [
        "##Fermat’s Last Theorem says that there are no positive integers a, b, and c such that\n",
        "\n",
        "##an + bn = cn \n",
        "#1.\n",
        "def check_fermat(a,b,c,n):\n",
        "  if n>2 and (a**n + b**n == c**n):\n",
        "    print(\"Holy smokes, Fermat was wrong!\")\n",
        "  else:\n",
        "    print(\"No, that doesn’t work.\")\n",
        "\n",
        "check_fermat(2,3,5,3)"
      ],
      "execution_count": 13,
      "outputs": [
        {
          "output_type": "stream",
          "name": "stdout",
          "text": [
            "No, that doesn’t work.\n"
          ]
        }
      ]
    },
    {
      "cell_type": "code",
      "metadata": {
        "colab": {
          "base_uri": "https://localhost:8080/"
        },
        "id": "y2w7lcpLUA5m",
        "outputId": "0e1eca62-b636-47e3-8a3f-e3f0a687744c"
      },
      "source": [
        "#2.\n",
        "def user_input_values():\n",
        "  a = int(input(\"Enter a number a: \"))\n",
        "  b = int(input(\"Enter a number b: \"))\n",
        "  c = int(input(\"Enter a number c: \"))\n",
        "  n = int(input(\"Enter a number n: \"))\n",
        "\n",
        "  return check_fermat(a,b,c,n)\n",
        "\n",
        "user_input_values()"
      ],
      "execution_count": 15,
      "outputs": [
        {
          "output_type": "stream",
          "name": "stdout",
          "text": [
            "Enter a number a: 5\n",
            "Enter a number b: 5\n",
            "Enter a number c: 5\n",
            "Enter a number n: 8\n",
            "No, that doesn’t work.\n"
          ]
        }
      ]
    },
    {
      "cell_type": "code",
      "metadata": {
        "colab": {
          "base_uri": "https://localhost:8080/"
        },
        "id": "M6VEt4vIWI0e",
        "outputId": "f9b0b234-d0ac-4a93-c34c-55cd45b42f8c"
      },
      "source": [
        "##bonus question \n",
        "list = [\"hello\",\"ww\",\"hi\",\"world\",\"ab\",\"fantasy\",\"gfdh\"]\n",
        "print(list)\n",
        "def cmp_len(list):\n",
        "  list.sort(key = len)\n",
        "  print(list)\n",
        "\n",
        "cmp_len(list)"
      ],
      "execution_count": 69,
      "outputs": [
        {
          "output_type": "stream",
          "name": "stdout",
          "text": [
            "['hello', 'ww', 'hi', 'world', 'ab', 'fantasy', 'gfdh']\n",
            "['ww', 'hi', 'ab', 'gfdh', 'hello', 'world', 'fantasy']\n"
          ]
        }
      ]
    },
    {
      "cell_type": "code",
      "metadata": {
        "id": "4Dh19376hNSO"
      },
      "source": [
        ""
      ],
      "execution_count": null,
      "outputs": []
    }
  ]
}