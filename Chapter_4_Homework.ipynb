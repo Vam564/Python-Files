{
  "nbformat": 4,
  "nbformat_minor": 0,
  "metadata": {
    "colab": {
      "name": "Chapter_4_Homework",
      "provenance": [],
      "collapsed_sections": [],
      "authorship_tag": "ABX9TyOAgekmNCR+OvmS2QRWsbxA",
      "include_colab_link": true
    },
    "kernelspec": {
      "name": "python3",
      "display_name": "Python 3"
    },
    "language_info": {
      "name": "python"
    }
  },
  "cells": [
    {
      "cell_type": "markdown",
      "metadata": {
        "id": "view-in-github",
        "colab_type": "text"
      },
      "source": [
        "<a href=\"https://colab.research.google.com/github/Vam564/Python-Files/blob/main/Chapter_4_Homework.ipynb\" target=\"_parent\"><img src=\"https://colab.research.google.com/assets/colab-badge.svg\" alt=\"Open In Colab\"/></a>"
      ]
    },
    {
      "cell_type": "code",
      "metadata": {
        "id": "79j_N7l4G9Dl",
        "colab": {
          "base_uri": "https://localhost:8080/"
        },
        "outputId": "a840d978-8147-46c6-c8ad-899ba6eccc87"
      },
      "source": [
        "#Number 7\n",
        "array = []\n",
        "if array:\n",
        "  print(\"Hey its not an empty array\")\n",
        "else:\n",
        "  print(\"its an empty array\")"
      ],
      "execution_count": 1,
      "outputs": [
        {
          "output_type": "stream",
          "name": "stdout",
          "text": [
            "its an empty array\n"
          ]
        }
      ]
    },
    {
      "cell_type": "code",
      "metadata": {
        "id": "msg2u-5tKaiA",
        "colab": {
          "base_uri": "https://localhost:8080/"
        },
        "outputId": "86c622bd-92f6-4a2a-b349-37dae950126b"
      },
      "source": [
        "tuple_1 = ()\n",
        "while tuple_1:\n",
        "  print(\"Its a tuple in loop\")\n",
        "print(\"Its an empty tuple so body in while loop not exectuing\")\n"
      ],
      "execution_count": 2,
      "outputs": [
        {
          "output_type": "stream",
          "name": "stdout",
          "text": [
            "Its an empty tuple so body in while loop not exectuing\n"
          ]
        }
      ]
    },
    {
      "cell_type": "code",
      "metadata": {
        "colab": {
          "base_uri": "https://localhost:8080/"
        },
        "id": "EsIUA2pFIYaA",
        "outputId": "daa382e0-97bc-40c0-9fe6-36e52770bf7d"
      },
      "source": [
        "string_1 = ''\n",
        "if string_1:\n",
        "  i = len(string_1)\n",
        "  print(\"Length of a string\",i)\n",
        "print(\"Its an empty string so length is not displaying\")"
      ],
      "execution_count": 5,
      "outputs": [
        {
          "output_type": "stream",
          "name": "stdout",
          "text": [
            "Its an empty string so length is not displaying\n"
          ]
        }
      ]
    },
    {
      "cell_type": "code",
      "metadata": {
        "colab": {
          "base_uri": "https://localhost:8080/"
        },
        "id": "6MMpnF2QJOSn",
        "outputId": "19b78cdc-8831-46c0-99ea-d5493b4564af"
      },
      "source": [
        "## Nummber 11 a.\n",
        "sent1 = [\"hey\",\"you\",\"me\",\"coffee\"]\n",
        "print(sent1,\"before modification\")\n",
        "sent2 = sent1[:]\n",
        "sent1[0] = \"coffee\"\n",
        "print(sent1,\"after modification\")\n",
        "print(sent2)"
      ],
      "execution_count": 15,
      "outputs": [
        {
          "output_type": "stream",
          "name": "stdout",
          "text": [
            "['hey', 'you', 'me', 'coffee'] before modification\n",
            "['coffee', 'you', 'me', 'coffee'] after modification\n",
            "['hey', 'you', 'me', 'coffee']\n"
          ]
        }
      ]
    },
    {
      "cell_type": "markdown",
      "metadata": {
        "id": "_hZniYORLr5k"
      },
      "source": [
        "sent2 will not change that because it's copying the object references inside the list. not the object reference to the list itself. so the original object reference remains intact even if the list gets overwritten."
      ]
    },
    {
      "cell_type": "code",
      "metadata": {
        "colab": {
          "base_uri": "https://localhost:8080/"
        },
        "id": "q1mW-PddKZWn",
        "outputId": "e3ef6f76-5795-4273-d4ca-86a39fc55448"
      },
      "source": [
        "## Number 11 b.\n",
        "text1 = [[\"This\", \"is\", \"Vamshi\",],[\"This\",\"is\",\"Keerthana\"],[\"You\",\"are\",\"my\",\"love\"]]\n",
        "print(text1,\"-------------Before modifying\")\n",
        "text2 = text1[:]\n",
        "text1[1][1]=\"Heart belongs to\"\n",
        "print(text2)"
      ],
      "execution_count": 18,
      "outputs": [
        {
          "output_type": "stream",
          "name": "stdout",
          "text": [
            "[['This', 'is', 'Vamshi'], ['This', 'is', 'Keerthana'], ['You', 'are', 'my', 'love']] -------------Before modifying\n",
            "[['This', 'is', 'Vamshi'], ['This', 'Heart belongs to', 'Keerthana'], ['You', 'are', 'my', 'love']]\n"
          ]
        }
      ]
    },
    {
      "cell_type": "markdown",
      "metadata": {
        "id": "HPFVppqUNUSx"
      },
      "source": [
        "this still affected text 2 because it is referencing a structured element. So even though you copy the object references, that object reference is itself to an object reference, which got overwritten\n",
        "\n"
      ]
    },
    {
      "cell_type": "code",
      "metadata": {
        "colab": {
          "base_uri": "https://localhost:8080/"
        },
        "id": "3bi0iw4_M9R-",
        "outputId": "e190a7a4-3091-4db1-9560-1099199b3cbf"
      },
      "source": [
        "# Number 11 c.\n",
        "from copy import deepcopy\n",
        "text1 = [[\"This\", \"is\", \"Vamshi\",],[\"This\",\"is\",\"Keerthana\"],[\"You\",\"are\",\"my\",\"love\"]]\n",
        "print(text1,\"-------------Before modifying\")\n",
        "text2 = deepcopy(text1)\n",
        "text1[1][1]=\"Heart belongs to\"\n",
        "print(text1)\n",
        "print(text2)"
      ],
      "execution_count": 23,
      "outputs": [
        {
          "output_type": "stream",
          "name": "stdout",
          "text": [
            "[['This', 'is', 'Vamshi'], ['This', 'is', 'Keerthana'], ['You', 'are', 'my', 'love']] -------------Before modifying\n",
            "[['This', 'is', 'Vamshi'], ['This', 'Heart belongs to', 'Keerthana'], ['You', 'are', 'my', 'love']]\n",
            "[['This', 'is', 'Vamshi'], ['This', 'is', 'Keerthana'], ['You', 'are', 'my', 'love']]\n"
          ]
        }
      ]
    },
    {
      "cell_type": "code",
      "metadata": {
        "colab": {
          "base_uri": "https://localhost:8080/"
        },
        "id": "M3usIY2EOINf",
        "outputId": "9768ae94-aa2b-4276-ded6-143d42268761"
      },
      "source": [
        "## Number 15\n",
        "import re\n",
        "txt = \"This Is Vamshi\"\n",
        "string_2=txt.split()\n",
        "string_2.sort()\n",
        "for i in string_2:\n",
        "  str_count = string_2.count(i)\n",
        "  print(i,\"The frequency is :\",str_count,\"\\n\")\n",
        "\n"
      ],
      "execution_count": 45,
      "outputs": [
        {
          "output_type": "stream",
          "name": "stdout",
          "text": [
            "Is The frequency is : 1 \n",
            "\n",
            "This The frequency is : 1 \n",
            "\n",
            "Vamshi The frequency is : 1 \n",
            "\n"
          ]
        }
      ]
    },
    {
      "cell_type": "code",
      "metadata": {
        "colab": {
          "base_uri": "https://localhost:8080/"
        },
        "id": "QcwCy3NRRRDs",
        "outputId": "db372486-08e2-496a-ed39-2e85c761353e"
      },
      "source": [
        "## Bonus Question Number 8\n",
        "'Monty' < 'Python'"
      ],
      "execution_count": 47,
      "outputs": [
        {
          "output_type": "execute_result",
          "data": {
            "text/plain": [
              "True"
            ]
          },
          "metadata": {},
          "execution_count": 47
        }
      ]
    },
    {
      "cell_type": "code",
      "metadata": {
        "colab": {
          "base_uri": "https://localhost:8080/"
        },
        "id": "LaK0TdK6X2zq",
        "outputId": "59be8cbc-9bca-4eca-db2e-596fd0765914"
      },
      "source": [
        "'Z' < 'a'"
      ],
      "execution_count": 49,
      "outputs": [
        {
          "output_type": "execute_result",
          "data": {
            "text/plain": [
              "True"
            ]
          },
          "metadata": {},
          "execution_count": 49
        }
      ]
    },
    {
      "cell_type": "code",
      "metadata": {
        "colab": {
          "base_uri": "https://localhost:8080/"
        },
        "id": "5qeK0ItvYtRT",
        "outputId": "64c4cde7-7c6a-402e-c2ef-c5b53019e3dc"
      },
      "source": [
        "('Vamshi',1) > ('Vampire',2)"
      ],
      "execution_count": 53,
      "outputs": [
        {
          "output_type": "execute_result",
          "data": {
            "text/plain": [
              "True"
            ]
          },
          "metadata": {},
          "execution_count": 53
        }
      ]
    },
    {
      "cell_type": "code",
      "metadata": {
        "colab": {
          "base_uri": "https://localhost:8080/"
        },
        "id": "FPCQcS3WX9ce",
        "outputId": "3257cb8f-0aca-4f08-a60f-20473c56a33c"
      },
      "source": [
        "'Vamshi' > 'Vampire'"
      ],
      "execution_count": 51,
      "outputs": [
        {
          "output_type": "execute_result",
          "data": {
            "text/plain": [
              "True"
            ]
          },
          "metadata": {},
          "execution_count": 51
        }
      ]
    },
    {
      "cell_type": "markdown",
      "metadata": {
        "id": "m-4DKIO3YOUx"
      },
      "source": [
        "Yes, This behaviour is expected because its an \"lexicographical order\" accoridng to ASCII values 'Z' is 90 and 'a' is 97 so obviously 97>90 so its showing us false when we execute 'Z' < 'a' and similiarly its apt for all the other examples"
      ]
    },
    {
      "cell_type": "code",
      "metadata": {
        "id": "oBNlkNlcYJmL"
      },
      "source": [
        ""
      ],
      "execution_count": null,
      "outputs": []
    }
  ]
}