{
  "nbformat": 4,
  "nbformat_minor": 0,
  "metadata": {
    "colab": {
      "name": "List_lab_assign",
      "provenance": [],
      "collapsed_sections": [],
      "authorship_tag": "ABX9TyOaj5zMb9ZwgbfLnLI6uzgl",
      "include_colab_link": true
    },
    "kernelspec": {
      "name": "python3",
      "display_name": "Python 3"
    },
    "language_info": {
      "name": "python"
    }
  },
  "cells": [
    {
      "cell_type": "markdown",
      "metadata": {
        "id": "view-in-github",
        "colab_type": "text"
      },
      "source": [
        "<a href=\"https://colab.research.google.com/github/Vam564/Python-Files/blob/main/List_lab_assign.ipynb\" target=\"_parent\"><img src=\"https://colab.research.google.com/assets/colab-badge.svg\" alt=\"Open In Colab\"/></a>"
      ]
    },
    {
      "cell_type": "code",
      "metadata": {
        "colab": {
          "base_uri": "https://localhost:8080/"
        },
        "id": "IZjT0rneOb4B",
        "outputId": "1236e03f-6e11-4e5a-f9f7-d9c0e2d66efe"
      },
      "source": [
        "#1.\n",
        "list1 = [1,2,3,\"Vamshi\",143,\"Keerthana\"]\n",
        "print(list1)\n",
        "def list_func(li):\n",
        "  li2 = []\n",
        "  for i in li:\n",
        "    if type(i) != str:\n",
        "      li2.append(i)\n",
        "  return li2\n",
        "\n",
        "print(list_func(list1))"
      ],
      "execution_count": 8,
      "outputs": [
        {
          "output_type": "stream",
          "name": "stdout",
          "text": [
            "[1, 2, 3, 143]\n"
          ]
        }
      ]
    },
    {
      "cell_type": "code",
      "metadata": {
        "colab": {
          "base_uri": "https://localhost:8080/"
        },
        "id": "-G5IvhmUPhPc",
        "outputId": "e48fea10-fdcc-4997-8a3d-8b75bb280618"
      },
      "source": [
        "#2.\n",
        "maximum = [2,456,89,1098,2,45,67]\n",
        "def maximum_num(li):\n",
        "  m = max(li)\n",
        "  return m\n",
        "print(maximum_num(maximum))"
      ],
      "execution_count": 9,
      "outputs": [
        {
          "output_type": "stream",
          "name": "stdout",
          "text": [
            "1098\n"
          ]
        }
      ]
    },
    {
      "cell_type": "code",
      "metadata": {
        "colab": {
          "base_uri": "https://localhost:8080/"
        },
        "id": "nnxuwfFAQJL4",
        "outputId": "72aaf81a-291e-480d-d115-0f7a7ef83f3b"
      },
      "source": [
        "#3.\n",
        "maximum = [2,456,89,1098,2,45,67]\n",
        "def max_min(li):\n",
        "  diff = max(li) - min(li)\n",
        "  return diff\n",
        "\n",
        "print(max_min(maximum))\n"
      ],
      "execution_count": 12,
      "outputs": [
        {
          "output_type": "stream",
          "name": "stdout",
          "text": [
            "1096\n"
          ]
        }
      ]
    },
    {
      "cell_type": "code",
      "metadata": {
        "colab": {
          "base_uri": "https://localhost:8080/"
        },
        "id": "m7Bc86YLRik2",
        "outputId": "bd897f34-98d5-4d37-a749-b13c98996178"
      },
      "source": [
        "#4.\n",
        "\n",
        "sample_list = [2,456,89,1098,2,45,67]\n",
        "def sum_of_list(li):\n",
        "  s = 0\n",
        "  for i in li:\n",
        "    s = s+i\n",
        "  return s\n",
        "\n",
        "print(sum_of_list(sample_list))"
      ],
      "execution_count": 15,
      "outputs": [
        {
          "output_type": "stream",
          "name": "stdout",
          "text": [
            "1759\n"
          ]
        }
      ]
    },
    {
      "cell_type": "code",
      "metadata": {
        "colab": {
          "base_uri": "https://localhost:8080/"
        },
        "id": "3CZf-S0hSgxW",
        "outputId": "62da059d-4551-42bb-f0ed-3ec330faa073"
      },
      "source": [
        "#5.\n",
        "def three_parts(num):\n",
        "  li =[num/2,num/4,num/8]\n",
        "  return li\n",
        "\n",
        "print(three_parts(int(input(\"Enter a number : \"))))"
      ],
      "execution_count": 28,
      "outputs": [
        {
          "output_type": "stream",
          "name": "stdout",
          "text": [
            "Enter a number : 1024\n",
            "[512.0, 256.0, 128.0]\n"
          ]
        }
      ]
    },
    {
      "cell_type": "code",
      "metadata": {
        "colab": {
          "base_uri": "https://localhost:8080/"
        },
        "id": "95tZdza9TMd2",
        "outputId": "e9b45a3f-1839-4102-c7e2-948a8027511d"
      },
      "source": [
        "#6.\n",
        "l = [2,456,89,1098,2,45,67]\n",
        "\n",
        "def index_add_list(li):\n",
        "  for i in range(0,len(li)):\n",
        "    li[i] = li[i]+i\n",
        "  \n",
        "  return li\n",
        "\n",
        "print(index_add_list(l))\n"
      ],
      "execution_count": 34,
      "outputs": [
        {
          "output_type": "stream",
          "name": "stdout",
          "text": [
            "[2, 457, 91, 1101, 6, 50, 73]\n"
          ]
        }
      ]
    },
    {
      "cell_type": "code",
      "metadata": {
        "colab": {
          "base_uri": "https://localhost:8080/"
        },
        "id": "L-fkoP1WTwag",
        "outputId": "38c9752b-cd11-4c4f-b187-0f50d585311b"
      },
      "source": [
        "#7.\n",
        "l = [2,456,89,1098,2,45,67]\n",
        "def remove(li,num):\n",
        "  li.append(num)\n",
        "  del li[0]\n",
        "  return li\n",
        "\n",
        "print(remove(l,int(input(\"Enter any number : \"))))\n",
        "\n",
        "\n"
      ],
      "execution_count": 43,
      "outputs": [
        {
          "output_type": "stream",
          "name": "stdout",
          "text": [
            "Enter any number : 23\n",
            "[456, 89, 1098, 2, 45, 67, 23]\n"
          ]
        }
      ]
    },
    {
      "cell_type": "code",
      "metadata": {
        "colab": {
          "base_uri": "https://localhost:8080/"
        },
        "id": "lxJ_maA6Wo--",
        "outputId": "73d82000-5a17-4a6c-89ad-7f89f544d524"
      },
      "source": [
        "#8.\n",
        "l = [2, 456, 89 ,78,89,2,1098, 2, 45, 67]\n",
        "\n",
        "def sort_list(li):\n",
        "  li.sort()\n",
        "  x = set(li)\n",
        "  return list(x)\n",
        "\n",
        "print(sort_list(l))"
      ],
      "execution_count": 51,
      "outputs": [
        {
          "output_type": "stream",
          "name": "stdout",
          "text": [
            "[2, 67, 456, 1098, 45, 78, 89]\n"
          ]
        }
      ]
    },
    {
      "cell_type": "code",
      "metadata": {
        "id": "BlIc3fMtWrHS"
      },
      "source": [
        "l"
      ],
      "execution_count": null,
      "outputs": []
    }
  ]
}