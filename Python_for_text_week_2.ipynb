{
  "nbformat": 4,
  "nbformat_minor": 0,
  "metadata": {
    "colab": {
      "name": "Python_for_text_week_2",
      "provenance": [],
      "collapsed_sections": [],
      "authorship_tag": "ABX9TyOdhDuo+jb8qhFrlJW6pM6k",
      "include_colab_link": true
    },
    "kernelspec": {
      "name": "python3",
      "display_name": "Python 3"
    },
    "language_info": {
      "name": "python"
    }
  },
  "cells": [
    {
      "cell_type": "markdown",
      "metadata": {
        "id": "view-in-github",
        "colab_type": "text"
      },
      "source": [
        "<a href=\"https://colab.research.google.com/github/Vam564/Python-Files/blob/main/Python_for_text_week_2.ipynb\" target=\"_parent\"><img src=\"https://colab.research.google.com/assets/colab-badge.svg\" alt=\"Open In Colab\"/></a>"
      ]
    },
    {
      "cell_type": "markdown",
      "metadata": {
        "id": "fbK4potUMmZT"
      },
      "source": [
        "Lab Basics Assignment Starts from here"
      ]
    },
    {
      "cell_type": "markdown",
      "metadata": {
        "id": "tAlbZrm5HIw7"
      },
      "source": [
        "1. An expression evaluates to a value. A statement does not"
      ]
    },
    {
      "cell_type": "markdown",
      "metadata": {
        "id": "PvSxU8j9HMk7"
      },
      "source": [
        "2. Variables should not begin with numbers. So, 100 is not a valid variable whereas eggs is a valid variable"
      ]
    },
    {
      "cell_type": "markdown",
      "metadata": {
        "id": "gFAx2URrIApD"
      },
      "source": [
        "3. \n",
        "a) 'spam' + 'spamspam' => 'spamspamspam'\n",
        "\n",
        "b) 'spam' * 3 => 'spamspamspam'"
      ]
    },
    {
      "cell_type": "markdown",
      "metadata": {
        "id": "VCdMnec2IkpF"
      },
      "source": [
        "4.Data Types in Python are: \n",
        "Numeric :- Integer, Float,\n",
        "Boolean,\n",
        "Sequence Type:- String, List, Tuple"
      ]
    },
    {
      "cell_type": "markdown",
      "metadata": {
        "id": "N6vOoFylJYpL"
      },
      "source": [
        "5. The int(), float()and str() functions will evaluate to the integer, floating-point and string versions of the value we passed to \n",
        "them"
      ]
    },
    {
      "cell_type": "markdown",
      "metadata": {
        "id": "IAEVsagoKX7m"
      },
      "source": [
        "6. The given expression can be fixed by adding string literals to the Integer value. 'I have eaten' + '99' + 'burritos'"
      ]
    },
    {
      "cell_type": "markdown",
      "metadata": {
        "id": "14raBpVqK-aS"
      },
      "source": [
        "7. The value of the bacon will be 20 Because bacon + 1 is not assigned to the bacon varible."
      ]
    },
    {
      "cell_type": "markdown",
      "metadata": {
        "id": "8HPAzG2_L1fz"
      },
      "source": [
        "8. *, -, /, + => Operators\n",
        "'hello', 5, -88.8 => Values  "
      ]
    },
    {
      "cell_type": "markdown",
      "metadata": {
        "id": "9aJZCvEDM1Jb"
      },
      "source": [
        "Practice Snippets of Python"
      ]
    },
    {
      "cell_type": "code",
      "metadata": {
        "colab": {
          "base_uri": "https://localhost:8080/"
        },
        "id": "kI7-4kCaNa6V",
        "outputId": "4583e77c-0b8a-4439-bc9b-13c789c0e6b1"
      },
      "source": [
        "import json\n",
        "\n",
        "# some JSON:\n",
        "x =  '{ \"name\":\"John\", \"age\":30, \"city\":\"New York\"}'\n",
        "\n",
        "# parse x:\n",
        "y = json.loads(x)\n",
        "\n",
        "# the result is a Python dictionary:\n",
        "print(y)"
      ],
      "execution_count": null,
      "outputs": [
        {
          "output_type": "stream",
          "text": [
            "{'name': 'John', 'age': 30, 'city': 'New York'}\n"
          ],
          "name": "stdout"
        }
      ]
    },
    {
      "cell_type": "code",
      "metadata": {
        "colab": {
          "base_uri": "https://localhost:8080/"
        },
        "id": "38djKCorQaV6",
        "outputId": "3969bafe-53b3-4cda-ccc5-7006fdc941b8"
      },
      "source": [
        "Num = int(input(\"enter number\"))\n",
        "\n",
        "if Num % 2 ==0:\n",
        "    print(Num,\"Its a Even Number\")\n",
        "else:\n",
        "    print(Num,\"Its an Odd Number\")\n",
        "  \n",
        "  "
      ],
      "execution_count": null,
      "outputs": [
        {
          "output_type": "stream",
          "text": [
            "enter number89\n",
            "89 Its an Odd Number\n"
          ],
          "name": "stdout"
        }
      ]
    },
    {
      "cell_type": "code",
      "metadata": {
        "colab": {
          "base_uri": "https://localhost:8080/"
        },
        "id": "JRMx-vvfQUCi",
        "outputId": "67d1267f-aa0e-4ead-e974-0b4efa513243"
      },
      "source": [
        "username = input(\"Enter username:\")\n",
        "print(\"Username is: \" + username)"
      ],
      "execution_count": null,
      "outputs": [
        {
          "output_type": "stream",
          "text": [
            "Enter username:K Vamshi Kumar'\n",
            "Username is: K Vamshi Kumar'\n"
          ],
          "name": "stdout"
        }
      ]
    },
    {
      "cell_type": "code",
      "metadata": {
        "colab": {
          "base_uri": "https://localhost:8080/"
        },
        "id": "YvSx9XAJNEE8",
        "outputId": "f68f1674-91b5-41b0-c859-73d06d1a5bce"
      },
      "source": [
        "import re\n",
        "\n",
        "txt = \"The rain in Spain, The Form\"\n",
        "x = re.search(\"^The.*Spain\", txt)\n",
        "if x:\n",
        "  print(\"Yes! we have a match\")\n",
        "else:\n",
        "  print(\"Nope sorry\")\n"
      ],
      "execution_count": null,
      "outputs": [
        {
          "output_type": "stream",
          "text": [
            "Yes! we have a match\n"
          ],
          "name": "stdout"
        }
      ]
    },
    {
      "cell_type": "code",
      "metadata": {
        "colab": {
          "base_uri": "https://localhost:8080/"
        },
        "id": "efZ7CneGMpRX",
        "outputId": "a0688182-189e-4159-b29c-efb17e9ff29c"
      },
      "source": [
        "\n",
        "f = open(\"/content/vamshi/sample.txt\", \"r\")\n",
        "#print(f.read())\n",
        "for line in f:\n",
        "  for word in line.split():\n",
        "    if word.endswith(\"ing\"):\n",
        "      print(word)\n"
      ],
      "execution_count": null,
      "outputs": [
        {
          "output_type": "stream",
          "text": [
            "using\n"
          ],
          "name": "stdout"
        }
      ]
    }
  ]
}