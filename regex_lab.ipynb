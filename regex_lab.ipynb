{
  "nbformat": 4,
  "nbformat_minor": 0,
  "metadata": {
    "colab": {
      "name": "regex_lab",
      "provenance": [],
      "collapsed_sections": []
    },
    "kernelspec": {
      "name": "python3",
      "display_name": "Python 3"
    },
    "language_info": {
      "name": "python"
    }
  },
  "cells": [
    {
      "cell_type": "code",
      "metadata": {
        "colab": {
          "base_uri": "https://localhost:8080/"
        },
        "id": "n_G9PEK7ZLu8",
        "outputId": "4c0e84e4-8bf7-483b-fcc4-56dfe5628b13"
      },
      "source": [
        "#1.\n",
        "import re\n",
        "def pattern_match(given_num):\n",
        "  num_match = re.compile(r'([0-9]{10}|[0-9](-[0-9]{3}){2}-[0-9]{4})|[0-9]{3}( [0-9]{3}){2}')\n",
        "  return  num_match.search(given_num)\n",
        "\n",
        "pattern_match('908 908 908')\n",
        "  \n"
      ],
      "execution_count": 35,
      "outputs": [
        {
          "output_type": "execute_result",
          "data": {
            "text/plain": [
              "<re.Match object; span=(0, 11), match='908 908 908'>"
            ]
          },
          "metadata": {},
          "execution_count": 35
        }
      ]
    },
    {
      "cell_type": "code",
      "metadata": {
        "colab": {
          "base_uri": "https://localhost:8080/"
        },
        "id": "lRnMAeKmd0Kj",
        "outputId": "23086434-0de4-49c6-ca44-07a7a11bcfbb"
      },
      "source": [
        "#2.\n",
        "def email_match(e):\n",
        "  email = re.compile(r'[A-Za-z0-9-_]{4,}@[a-zA-Z]{3,10}(.[a-zA-Z]{2,5})?(.com)$')\n",
        "  return email.search(e)\n",
        "  \n",
        "email_match('Vamshitanz@gmail.in.com')"
      ],
      "execution_count": 52,
      "outputs": [
        {
          "output_type": "execute_result",
          "data": {
            "text/plain": [
              "<re.Match object; span=(0, 23), match='Vamshitanz@gmail.in.com'>"
            ]
          },
          "metadata": {},
          "execution_count": 52
        }
      ]
    },
    {
      "cell_type": "code",
      "metadata": {
        "colab": {
          "base_uri": "https://localhost:8080/"
        },
        "id": "69WqBkj6gaGg",
        "outputId": "ec1c275e-cfbb-4ab0-f200-3e49ad14d5af"
      },
      "source": [
        "#3.\n",
        "def amount(value):\n",
        "  amount_num = re.compile(r'[$]?[0-9]{1,10}(.[0]{2})( dollars?)?')\n",
        "  return amount_num.search(value)\n",
        "amount('10.00 dollar')\n",
        "  "
      ],
      "execution_count": 67,
      "outputs": [
        {
          "output_type": "execute_result",
          "data": {
            "text/plain": [
              "<re.Match object; span=(0, 12), match='10.00 dollar'>"
            ]
          },
          "metadata": {},
          "execution_count": 67
        }
      ]
    },
    {
      "cell_type": "code",
      "metadata": {
        "colab": {
          "base_uri": "https://localhost:8080/"
        },
        "id": "U1tc0BExmPBN",
        "outputId": "a2825365-2a0b-4926-d2bf-e24ab012dc90"
      },
      "source": [
        "#4.\n",
        "def return_3_4_words(words):\n",
        "  return re.findall(r'\\b[a-zA-Z]{3,4}\\b', words)\n",
        "  \n",
        "return_3_4_words(' Returns a match where the string contains a white space character you are beautiful girl and Iam a boy who loves you with all my heart')\n",
        "  "
      ],
      "execution_count": 79,
      "outputs": [
        {
          "output_type": "execute_result",
          "data": {
            "text/plain": [
              "['the', 'you', 'are', 'girl', 'and', 'Iam', 'boy', 'who', 'you', 'with', 'all']"
            ]
          },
          "metadata": {},
          "execution_count": 79
        }
      ]
    },
    {
      "cell_type": "code",
      "metadata": {
        "colab": {
          "base_uri": "https://localhost:8080/"
        },
        "id": "9DMkMY0aowFx",
        "outputId": "2020f106-882d-4fc8-83ff-89b37f1e45c1"
      },
      "source": [
        "#5.\n",
        "def repeated_words(words):\n",
        "  return re.findall(r'\\b(\\w+)\\s\\1\\b',words)\n",
        "\n",
        "repeated_words(' Returns a match where where the string vam vam contains a white space space character you are beautiful girl and Iam a boy who loves you with all my heart')"
      ],
      "execution_count": 85,
      "outputs": [
        {
          "output_type": "execute_result",
          "data": {
            "text/plain": [
              "['where', 'vam', 'space']"
            ]
          },
          "metadata": {},
          "execution_count": 85
        }
      ]
    },
    {
      "cell_type": "code",
      "metadata": {
        "colab": {
          "base_uri": "https://localhost:8080/"
        },
        "id": "WUB8xZd1sZxJ",
        "outputId": "28bb2fac-7715-42db-9a70-3b532874ead3"
      },
      "source": [
        "#6.\n",
        "def match_int_words(words):\n",
        "   return re.findall(r'^[0-9].+[a-zA-Z]{1,}$',words)\n",
        "match_int_words('4 nParagraphs are the building blocks of papers. Many students define paragraphs in terms of length: a paragraph is a group of at least five sentences, a paragraph is half a page long, etc. In reality, though, the unity and coherence of ideas among sentences is what constitutes a paragraph. A paragraph is defined as “a group of sentences or a single sentence that forms a unit” (Lunsford and Connors 116). 5 Length and appearance do not determine whether a section in a paper is a paragraph. For instance, in some styles of writing, particularly journalistic styles, a paragraph can be just one sentence long. Ultimately, a paragraph is a sentence or group of sentences that support one main idea 6 In this handout, we will refer to this as the “controlling idea,” because it controls what happens in the rest of the paragraph')"
      ],
      "execution_count": 123,
      "outputs": [
        {
          "output_type": "execute_result",
          "data": {
            "text/plain": [
              "['4 nParagraphs are the building blocks of papers. Many students define paragraphs in terms of length: a paragraph is a group of at least five sentences, a paragraph is half a page long, etc. In reality, though, the unity and coherence of ideas among sentences is what constitutes a paragraph. A paragraph is defined as “a group of sentences or a single sentence that forms a unit” (Lunsford and Connors 116). 5 Length and appearance do not determine whether a section in a paper is a paragraph. For instance, in some styles of writing, particularly journalistic styles, a paragraph can be just one sentence long. Ultimately, a paragraph is a sentence or group of sentences that support one main idea 6 In this handout, we will refer to this as the “controlling idea,” because it controls what happens in the rest of the paragraph']"
            ]
          },
          "metadata": {},
          "execution_count": 123
        }
      ]
    },
    {
      "cell_type": "code",
      "metadata": {
        "colab": {
          "base_uri": "https://localhost:8080/"
        },
        "id": "xBu8ZVchtqs8",
        "outputId": "76b2e901-269d-4947-fa72-3140b70a2413"
      },
      "source": [
        "#7.\n",
        "def lowercase_A_b(words):\n",
        "  return re.findall(r'\\w[a-b]+\\b',words)\n",
        "\n",
        "lowercase_A_b('Paragraphs va tab are the building blocks of papers. Many students define paragraphs in terms of length: a paragraph is a group of at least five sentences, a paragraph is half a page long, etc. In reality, though, the unity and coherence of ideas among sentences is what constitutes a paragraph. A paragraph is defined as “a group of sentences or a single sentence that forms a unit” (Lunsford and Connors 116). Length and appearance do not determine whether a section in a paper is a paragraph. For instance, in some styles of writing, particularly journalistic styles, a paragraph can be just one sentence long. Ultimately, a paragraph is a sentence or group of sentences that support one main idea. In this handout, we will refer to this as the “controlling idea,” because it controls what happens in the rest of the paragraph.')"
      ],
      "execution_count": 114,
      "outputs": [
        {
          "output_type": "execute_result",
          "data": {
            "text/plain": [
              "['va', 'tab', 'ea', 'ea']"
            ]
          },
          "metadata": {},
          "execution_count": 114
        }
      ]
    },
    {
      "cell_type": "code",
      "metadata": {
        "colab": {
          "base_uri": "https://localhost:8080/"
        },
        "id": "8za7OtUQxgzU",
        "outputId": "1d7ef735-a077-4d89-e04f-d78bebcc1fc5"
      },
      "source": [
        "#   BONUS Question\n",
        "def doubled_letters(words):\n",
        "  return re.findall(r'(\\b\\w*?(\\w)\\2.*?\\b)',words)\n",
        "\n",
        "doubled_letters('we will refer to this as the “controlling idea,” because it controls what happens in the rest of the paragraph. Heyy maan youu good')"
      ],
      "execution_count": 128,
      "outputs": [
        {
          "output_type": "execute_result",
          "data": {
            "text/plain": [
              "[('will', 'l'),\n",
              " ('controlling', 'l'),\n",
              " ('happens', 'p'),\n",
              " ('Heyy', 'y'),\n",
              " ('maan', 'a'),\n",
              " ('youu', 'u'),\n",
              " ('good', 'o')]"
            ]
          },
          "metadata": {},
          "execution_count": 128
        }
      ]
    },
    {
      "cell_type": "code",
      "metadata": {
        "id": "Xrc2Uxve0yuh"
      },
      "source": [
        ""
      ],
      "execution_count": null,
      "outputs": []
    }
  ]
}