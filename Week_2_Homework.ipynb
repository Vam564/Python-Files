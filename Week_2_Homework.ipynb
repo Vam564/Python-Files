{
  "nbformat": 4,
  "nbformat_minor": 0,
  "metadata": {
    "colab": {
      "name": "Week 2 Homework",
      "provenance": [],
      "collapsed_sections": []
    },
    "kernelspec": {
      "name": "python3",
      "display_name": "Python 3"
    },
    "language_info": {
      "name": "python"
    }
  },
  "cells": [
    {
      "cell_type": "code",
      "metadata": {
        "colab": {
          "base_uri": "https://localhost:8080/"
        },
        "id": "1n0YthArrs-7",
        "outputId": "bda83b5c-d4da-45b2-b705-8cf253f2296b"
      },
      "source": [
        "#1) Volume of sphere\n",
        "expression=(4/3)*3.14*125\n",
        "expression\n",
        "ans=round(expression,2)\n",
        "print(ans)\n",
        "\n"
      ],
      "execution_count": 1,
      "outputs": [
        {
          "output_type": "stream",
          "name": "stdout",
          "text": [
            "523.33\n"
          ]
        }
      ]
    },
    {
      "cell_type": "code",
      "metadata": {
        "colab": {
          "base_uri": "https://localhost:8080/"
        },
        "id": "7kk7FrLDsRjS",
        "outputId": "bfe8886a-cded-4ae6-e8ec-17f4f665254e"
      },
      "source": [
        "\n",
        "#2)\n",
        "value= 3+59*0.75\n",
        "abc=24.95*60\n",
        "x=abc-(0.4*abc)\n",
        "x=x+value\n",
        "print(x)"
      ],
      "execution_count": 2,
      "outputs": [
        {
          "output_type": "stream",
          "name": "stdout",
          "text": [
            "945.4499999999999\n"
          ]
        }
      ]
    },
    {
      "cell_type": "code",
      "metadata": {
        "colab": {
          "base_uri": "https://localhost:8080/"
        },
        "id": "HMDDf2DMszor",
        "outputId": "7207bc62-2d7c-46de-b5e0-e8528a5bf3eb"
      },
      "source": [
        "#3)\n",
        "v=8.15+3*7.12+8.15\n",
        "print(v)\n",
        "#y=y+v/60\n",
        "r=6*60+52\n",
        "print(r)\n"
      ],
      "execution_count": 3,
      "outputs": [
        {
          "output_type": "stream",
          "name": "stdout",
          "text": [
            "37.66\n",
            "412\n"
          ]
        }
      ]
    },
    {
      "cell_type": "code",
      "metadata": {
        "colab": {
          "base_uri": "https://localhost:8080/"
        },
        "id": "t77Wj4jDtWa4",
        "outputId": "d9e20c8d-3b93-4ae9-a926-821b68c52ff9"
      },
      "source": [
        "p = (r+v)/60\n",
        "round(p,2)"
      ],
      "execution_count": 5,
      "outputs": [
        {
          "output_type": "execute_result",
          "data": {
            "text/plain": [
              "7.49"
            ]
          },
          "metadata": {},
          "execution_count": 5
        }
      ]
    },
    {
      "cell_type": "markdown",
      "metadata": {
        "id": "tzIrmceCt4_M"
      },
      "source": [
        "I reached home for breakfast after 38 minutes \n",
        " i.e at 7:30(7.5 hrs)"
      ]
    },
    {
      "cell_type": "code",
      "metadata": {
        "colab": {
          "base_uri": "https://localhost:8080/",
          "height": 86
        },
        "id": "91UmAJittktW",
        "outputId": "3e6a666c-1516-47a9-f23d-54a8508e08ca"
      },
      "source": [
        "# Exercise 2 Starts from here\n",
        "w = 17\n",
        "h = 12.0\n",
        "d = '.'\n",
        "print(w/2)\n",
        "print(w/2.0)\n",
        "print(h/3)\n",
        "1+2*5\n",
        "d*5"
      ],
      "execution_count": 7,
      "outputs": [
        {
          "output_type": "stream",
          "name": "stdout",
          "text": [
            "8.5\n",
            "8.5\n",
            "4.0\n"
          ]
        },
        {
          "output_type": "execute_result",
          "data": {
            "application/vnd.google.colaboratory.intrinsic+json": {
              "type": "string"
            },
            "text/plain": [
              "'.....'"
            ]
          },
          "metadata": {},
          "execution_count": 7
        }
      ]
    },
    {
      "cell_type": "markdown",
      "metadata": {
        "id": "wfkUxlaGu2Yf"
      },
      "source": [
        "Bonus Questions starts from here "
      ]
    },
    {
      "cell_type": "code",
      "metadata": {
        "colab": {
          "base_uri": "https://localhost:8080/"
        },
        "id": "Ne7hZWK7ug1U",
        "outputId": "6e8b0c93-38ba-437a-ee12-86190783b308"
      },
      "source": [
        "s1=\"vamshi\"\n",
        "s2=\"kumar\"\n",
        "print(s1+s2)"
      ],
      "execution_count": 8,
      "outputs": [
        {
          "output_type": "stream",
          "name": "stdout",
          "text": [
            "vamshikumar\n"
          ]
        }
      ]
    },
    {
      "cell_type": "code",
      "metadata": {
        "colab": {
          "base_uri": "https://localhost:8080/"
        },
        "id": "y3FKNLVMvL76",
        "outputId": "30c028c0-43c2-4ec0-be54-3706e5b93d82"
      },
      "source": [
        "len_s1 = len(s1)\n",
        "len_s2 = len(s2)\n",
        "len_s1_s2 = len(s1+s2)\n",
        "print(len_s1)\n",
        "print(len_s2)\n",
        "print(len_s1+len_s2)\n",
        "print(len_s1_s2)"
      ],
      "execution_count": 11,
      "outputs": [
        {
          "output_type": "stream",
          "name": "stdout",
          "text": [
            "6\n",
            "5\n",
            "11\n",
            "11\n"
          ]
        }
      ]
    },
    {
      "cell_type": "code",
      "metadata": {
        "id": "0z4KMNFevQfe"
      },
      "source": [
        "0"
      ],
      "execution_count": null,
      "outputs": []
    },
    {
      "cell_type": "markdown",
      "metadata": {
        "id": "HwMIKrLEv4DD"
      },
      "source": [
        "The answer is same whether we add both strings length seperately or concateneted string length."
      ]
    },
    {
      "cell_type": "code",
      "metadata": {
        "id": "X0RVCEh1wFkG"
      },
      "source": [
        ""
      ],
      "execution_count": null,
      "outputs": []
    }
  ]
}