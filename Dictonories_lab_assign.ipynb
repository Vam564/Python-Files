{
  "nbformat": 4,
  "nbformat_minor": 0,
  "metadata": {
    "colab": {
      "name": "Dictonories_lab_assign",
      "provenance": [],
      "collapsed_sections": [],
      "authorship_tag": "ABX9TyOtiWOVQVfz3kE0zbneXIkm",
      "include_colab_link": true
    },
    "kernelspec": {
      "name": "python3",
      "display_name": "Python 3"
    },
    "language_info": {
      "name": "python"
    }
  },
  "cells": [
    {
      "cell_type": "markdown",
      "metadata": {
        "id": "view-in-github",
        "colab_type": "text"
      },
      "source": [
        "<a href=\"https://colab.research.google.com/github/Vam564/Python-Files/blob/main/Dictonories_lab_assign.ipynb\" target=\"_parent\"><img src=\"https://colab.research.google.com/assets/colab-badge.svg\" alt=\"Open In Colab\"/></a>"
      ]
    },
    {
      "cell_type": "code",
      "metadata": {
        "colab": {
          "base_uri": "https://localhost:8080/"
        },
        "id": "OUsoSCJfUM8w",
        "outputId": "532b7c54-9c96-4f61-a415-79f1bb0ded26"
      },
      "source": [
        "#1 swap the values with key in the new dictionary\n",
        "org = {\"x\":1,\"b\":2}\n",
        "\n",
        "def swapkeystovalues(d):\n",
        "\n",
        "  nd = dict((v,k) for k,v in d.items())\n",
        "  return nd\n",
        "\n",
        "print(swapkeystovalues(org))  "
      ],
      "execution_count": null,
      "outputs": [
        {
          "output_type": "stream",
          "name": "stdout",
          "text": [
            "{1: 'x', 2: 'b'}\n"
          ]
        }
      ]
    },
    {
      "cell_type": "code",
      "metadata": {
        "colab": {
          "base_uri": "https://localhost:8080/"
        },
        "id": "QMwsCQW-VAkC",
        "outputId": "c95aeafd-f8e1-421c-dcc1-40d3c0ad9f89"
      },
      "source": [
        "#2.\n",
        "d1 = {\"a\":\"abc\",\"b\":\"bcd\"}\n",
        "d2 = {\"c\":\"cde\",\"d\":\"def\"}\n",
        "\n",
        "def islistitems(d1,d2):\n",
        "  li = list(d1)\n",
        "  li.extend(list(d2))\n",
        "  return li\n",
        "\n",
        "print(islistitems(d1,d2))\n"
      ],
      "execution_count": null,
      "outputs": [
        {
          "output_type": "stream",
          "name": "stdout",
          "text": [
            "['a', 'b', 'c', 'd']\n"
          ]
        }
      ]
    },
    {
      "cell_type": "code",
      "metadata": {
        "colab": {
          "base_uri": "https://localhost:8080/"
        },
        "id": "QM-p1DgJcrHJ",
        "outputId": "24228dc7-8818-4f34-bec5-cc9b657b4f4d"
      },
      "source": [
        "#3. \n",
        "d3 = {\"dogs\": 7,\"cats\":10,\"horses\":5}\n",
        "\n",
        "def kvtotuples(d3):\n",
        "  li = []\n",
        "  for i in d3.items():\n",
        "    li.append(i)\n",
        "  \n",
        "  return li\n",
        "\n",
        "print(kvtotuples(d3))"
      ],
      "execution_count": null,
      "outputs": [
        {
          "output_type": "stream",
          "name": "stdout",
          "text": [
            "[('dogs', 7), ('cats', 10), ('horses', 5)]\n"
          ]
        }
      ]
    },
    {
      "cell_type": "code",
      "metadata": {
        "colab": {
          "base_uri": "https://localhost:8080/"
        },
        "id": "hiIwTM43e-Ws",
        "outputId": "86fd4b81-4e5c-4194-bec9-9cf02feb107f"
      },
      "source": [
        "#4\n",
        "li = [1,2,3,4,5]\n",
        "\n",
        "def samekv(li):\n",
        "  d4 = {}\n",
        "  for i in li:\n",
        "    d4[i] = str(i)\n",
        "  return d4\n",
        "\n",
        "print(samekv(li))\n"
      ],
      "execution_count": null,
      "outputs": [
        {
          "output_type": "stream",
          "name": "stdout",
          "text": [
            "{1: '1', 2: '2', 3: '3', 4: '4', 5: '5'}\n"
          ]
        }
      ]
    },
    {
      "cell_type": "code",
      "metadata": {
        "colab": {
          "base_uri": "https://localhost:8080/"
        },
        "id": "P2f2NikugO93",
        "outputId": "81c98b39-c2d2-415f-9c2a-8121e0f7aaeb"
      },
      "source": [
        "#5.\n",
        "d5 = {1: '1', 2: '2', 3: 3, 4: '4', 5: '5'}\n",
        "\n",
        "def isIntegers(d5):\n",
        "  for k,v in d5.items():\n",
        "    if type(v) == int:\n",
        "      print(\"True\")\n",
        "    else:\n",
        "      print(\"False\")\n",
        "\n",
        "print(isIntegers(d5))"
      ],
      "execution_count": null,
      "outputs": [
        {
          "output_type": "stream",
          "name": "stdout",
          "text": [
            "False\n",
            "False\n",
            "True\n",
            "False\n",
            "False\n",
            "None\n"
          ]
        }
      ]
    },
    {
      "cell_type": "code",
      "metadata": {
        "colab": {
          "base_uri": "https://localhost:8080/"
        },
        "id": "VxzgdRwMg5Q4",
        "outputId": "657a3aa1-8829-4000-ee0e-24dba78e5fe1"
      },
      "source": [
        "#6.\n",
        "D6 = {}\n",
        "\n",
        "def isDicEmpty(d):\n",
        "  if d:\n",
        "    print(\"True\")\n",
        "  else:\n",
        "    print(\"False\")\n",
        "\n",
        "print(isDicEmpty(D6))"
      ],
      "execution_count": 28,
      "outputs": [
        {
          "output_type": "stream",
          "name": "stdout",
          "text": [
            "False\n",
            "None\n"
          ]
        }
      ]
    },
    {
      "cell_type": "code",
      "metadata": {
        "id": "HcfAy_KoiPDi",
        "colab": {
          "base_uri": "https://localhost:8080/"
        },
        "outputId": "f36f52cb-8d2f-4a36-9e9b-9167b27c5b3d"
      },
      "source": [
        "#7. \n",
        "d7 = [\"a\",\"v\",\"m\",\"k\",\"r\"]\n",
        "\n",
        "def alphaAsci(d):\n",
        "  li = []\n",
        "  for i in d:\n",
        "    li.append((i,ord(i)))\n",
        "  return li\n",
        "\n",
        "print(alphaAsci(d7))"
      ],
      "execution_count": 40,
      "outputs": [
        {
          "output_type": "stream",
          "name": "stdout",
          "text": [
            "[('a', 97), ('v', 118), ('m', 109), ('k', 107), ('r', 114)]\n"
          ]
        }
      ]
    },
    {
      "cell_type": "code",
      "metadata": {
        "colab": {
          "base_uri": "https://localhost:8080/"
        },
        "id": "7UwT_1TymqG9",
        "outputId": "1f3f38bf-adcc-466a-cc35-7c595ae2a5f0"
      },
      "source": [
        "#8.\n",
        "d8 = {\"apple\" : 6, \"orange\": 10, \"banana\":2, \"kiwi\" : 11 } \n",
        "\n",
        "def dicmax(d):\n",
        "  r = [[v,k] for k,v in d.items()]\n",
        "  return max(r)[1]\n",
        "\n",
        "print(dicmax(d8))"
      ],
      "execution_count": 52,
      "outputs": [
        {
          "output_type": "stream",
          "name": "stdout",
          "text": [
            "kiwi\n"
          ]
        }
      ]
    },
    {
      "cell_type": "code",
      "metadata": {
        "colab": {
          "base_uri": "https://localhost:8080/"
        },
        "id": "mJa6B2MWmrOY",
        "outputId": "feed5fc4-0c00-4727-c481-2e5c89a76279"
      },
      "source": [
        "#Bonus Question\n",
        "\n",
        "#1\n",
        "eggs = {'name': 'Zophie', 'species': 'cat', 'age': '8'}\n",
        "ham = {'species': 'cat', 'age': '8', 'name': 'Zophie'}\n",
        "\n",
        "def isEqualDict(d1,d2,key):\n",
        "  if key in d1.keys() and key in d2.keys():\n",
        "    if d1[key]==d2[key]:\n",
        "      return \"True\"\n",
        "    else:\n",
        "      return \"Not The Same\"\n",
        "  else:\n",
        "    return \"One's empty\"\n",
        "\n",
        "print(isEqualDict(eggs,ham,'age'))"
      ],
      "execution_count": 64,
      "outputs": [
        {
          "output_type": "stream",
          "name": "stdout",
          "text": [
            "True\n"
          ]
        }
      ]
    },
    {
      "cell_type": "code",
      "metadata": {
        "id": "F3fSKdLXssIX"
      },
      "source": [
        ""
      ],
      "execution_count": null,
      "outputs": []
    }
  ]
}