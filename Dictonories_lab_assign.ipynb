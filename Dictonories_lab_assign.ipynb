{
  "nbformat": 4,
  "nbformat_minor": 0,
  "metadata": {
    "colab": {
      "name": "Dictonories_lab_assign",
      "provenance": [],
      "collapsed_sections": [],
      "authorship_tag": "ABX9TyNPwtzteQrr6ripMPOINd7u",
      "include_colab_link": true
    },
    "kernelspec": {
      "name": "python3",
      "display_name": "Python 3"
    },
    "language_info": {
      "name": "python"
    }
  },
  "cells": [
    {
      "cell_type": "markdown",
      "metadata": {
        "id": "view-in-github",
        "colab_type": "text"
      },
      "source": [
        "<a href=\"https://colab.research.google.com/github/Vam564/Python-Files/blob/main/Dictonories_lab_assign.ipynb\" target=\"_parent\"><img src=\"https://colab.research.google.com/assets/colab-badge.svg\" alt=\"Open In Colab\"/></a>"
      ]
    },
    {
      "cell_type": "code",
      "metadata": {
        "colab": {
          "base_uri": "https://localhost:8080/"
        },
        "id": "OUsoSCJfUM8w",
        "outputId": "532b7c54-9c96-4f61-a415-79f1bb0ded26"
      },
      "source": [
        "#1 swap the values with key in the new dictionary\n",
        "org = {\"x\":1,\"b\":2}\n",
        "\n",
        "def swapkeystovalues(d):\n",
        "\n",
        "  nd = dict((v,k) for k,v in d.items())\n",
        "  return nd\n",
        "\n",
        "print(swapkeystovalues(org))  "
      ],
      "execution_count": 14,
      "outputs": [
        {
          "output_type": "stream",
          "name": "stdout",
          "text": [
            "{1: 'x', 2: 'b'}\n"
          ]
        }
      ]
    },
    {
      "cell_type": "code",
      "metadata": {
        "colab": {
          "base_uri": "https://localhost:8080/"
        },
        "id": "QMwsCQW-VAkC",
        "outputId": "c95aeafd-f8e1-421c-dcc1-40d3c0ad9f89"
      },
      "source": [
        "#2.\n",
        "d1 = {\"a\":\"abc\",\"b\":\"bcd\"}\n",
        "d2 = {\"c\":\"cde\",\"d\":\"def\"}\n",
        "\n",
        "def islistitems(d1,d2):\n",
        "  li = list(d1)\n",
        "  li.extend(list(d2))\n",
        "  return li\n",
        "\n",
        "print(islistitems(d1,d2))\n"
      ],
      "execution_count": 16,
      "outputs": [
        {
          "output_type": "stream",
          "name": "stdout",
          "text": [
            "['a', 'b', 'c', 'd']\n"
          ]
        }
      ]
    },
    {
      "cell_type": "code",
      "metadata": {
        "colab": {
          "base_uri": "https://localhost:8080/"
        },
        "id": "QM-p1DgJcrHJ",
        "outputId": "24228dc7-8818-4f34-bec5-cc9b657b4f4d"
      },
      "source": [
        "#3. \n",
        "d3 = {\"dogs\": 7,\"cats\":10,\"horses\":5}\n",
        "\n",
        "def kvtotuples(d3):\n",
        "  li = []\n",
        "  for i in d3.items():\n",
        "    li.append(i)\n",
        "  \n",
        "  return li\n",
        "\n",
        "print(kvtotuples(d3))"
      ],
      "execution_count": 19,
      "outputs": [
        {
          "output_type": "stream",
          "name": "stdout",
          "text": [
            "[('dogs', 7), ('cats', 10), ('horses', 5)]\n"
          ]
        }
      ]
    },
    {
      "cell_type": "code",
      "metadata": {
        "colab": {
          "base_uri": "https://localhost:8080/"
        },
        "id": "hiIwTM43e-Ws",
        "outputId": "86fd4b81-4e5c-4194-bec9-9cf02feb107f"
      },
      "source": [
        "#4\n",
        "li = [1,2,3,4,5]\n",
        "\n",
        "def samekv(li):\n",
        "  d4 = {}\n",
        "  for i in li:\n",
        "    d4[i] = str(i)\n",
        "  return d4\n",
        "\n",
        "print(samekv(li))\n"
      ],
      "execution_count": 20,
      "outputs": [
        {
          "output_type": "stream",
          "name": "stdout",
          "text": [
            "{1: '1', 2: '2', 3: '3', 4: '4', 5: '5'}\n"
          ]
        }
      ]
    },
    {
      "cell_type": "code",
      "metadata": {
        "colab": {
          "base_uri": "https://localhost:8080/",
          "height": 131
        },
        "id": "P2f2NikugO93",
        "outputId": "5729f9c9-d0b7-4c73-a2e5-dcf6c3eb8483"
      },
      "source": [
        "#5.\n",
        "d5 = {1: '1', 2: '2', 3: 3, 4: '4', 5: '5'}\n",
        "\n",
        "def isIntegers(d5):\n",
        "  for k,v in d5.items():\n",
        "    if(type v == int)\n",
        "      print(true)\n",
        "    else:\n",
        "      print(false)\n",
        "\n",
        "print(isIntegers())"
      ],
      "execution_count": 21,
      "outputs": [
        {
          "output_type": "error",
          "ename": "SyntaxError",
          "evalue": "ignored",
          "traceback": [
            "\u001b[0;36m  File \u001b[0;32m\"<ipython-input-21-79bebc537909>\"\u001b[0;36m, line \u001b[0;32m6\u001b[0m\n\u001b[0;31m    if(type v == int)\u001b[0m\n\u001b[0m            ^\u001b[0m\n\u001b[0;31mSyntaxError\u001b[0m\u001b[0;31m:\u001b[0m invalid syntax\n"
          ]
        }
      ]
    },
    {
      "cell_type": "code",
      "metadata": {
        "id": "VxzgdRwMg5Q4"
      },
      "source": [
        ""
      ],
      "execution_count": null,
      "outputs": []
    }
  ]
}