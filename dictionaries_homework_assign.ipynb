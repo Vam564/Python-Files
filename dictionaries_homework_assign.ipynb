{
  "nbformat": 4,
  "nbformat_minor": 0,
  "metadata": {
    "colab": {
      "name": "dictionaries_homework_assign",
      "provenance": [],
      "collapsed_sections": [],
      "authorship_tag": "ABX9TyNzVezPrSI7re3qIx/S+HbB",
      "include_colab_link": true
    },
    "kernelspec": {
      "name": "python3",
      "display_name": "Python 3"
    },
    "language_info": {
      "name": "python"
    }
  },
  "cells": [
    {
      "cell_type": "markdown",
      "metadata": {
        "id": "view-in-github",
        "colab_type": "text"
      },
      "source": [
        "<a href=\"https://colab.research.google.com/github/Vam564/Python-Files/blob/main/dictionaries_homework_assign.ipynb\" target=\"_parent\"><img src=\"https://colab.research.google.com/assets/colab-badge.svg\" alt=\"Open In Colab\"/></a>"
      ]
    },
    {
      "cell_type": "code",
      "metadata": {
        "colab": {
          "base_uri": "https://localhost:8080/"
        },
        "id": "G-tGaB1iu9r2",
        "outputId": "67282cbb-683f-4b4b-9339-b8a92cbf301e"
      },
      "source": [
        "#1.\n",
        "li = [1,22,33,44,55,1,98]\n",
        "def has_duplicates(li):\n",
        "  dictionary = {}\n",
        "  for i in li:\n",
        "      if i in dictionary:\n",
        "          return True\n",
        "      dictionary[i] = True\n",
        "  return False\n",
        "\n",
        "print(has_duplicates(li))"
      ],
      "execution_count": 4,
      "outputs": [
        {
          "output_type": "stream",
          "name": "stdout",
          "text": [
            "True\n"
          ]
        }
      ]
    },
    {
      "cell_type": "code",
      "metadata": {
        "colab": {
          "base_uri": "https://localhost:8080/"
        },
        "id": "Q6Z7IWz8zCrW",
        "outputId": "30104a37-5844-4a73-e20a-a56e5e606f48"
      },
      "source": [
        "#2.\n",
        "def dec_build():\n",
        "    my_str =\"What is the question man\"\n",
        "    my_dict={}\n",
        "    for line in my_str:\n",
        "        for word in line.split():\n",
        "            my_dict[word]=len(word)\n",
        "    return my_dict\n",
        "dec_build()"
      ],
      "execution_count": 24,
      "outputs": [
        {
          "output_type": "execute_result",
          "data": {
            "text/plain": [
              "{'W': 1,\n",
              " 'a': 1,\n",
              " 'e': 1,\n",
              " 'h': 1,\n",
              " 'i': 1,\n",
              " 'm': 1,\n",
              " 'n': 1,\n",
              " 'o': 1,\n",
              " 'q': 1,\n",
              " 's': 1,\n",
              " 't': 1,\n",
              " 'u': 1}"
            ]
          },
          "metadata": {},
          "execution_count": 24
        }
      ]
    },
    {
      "cell_type": "code",
      "metadata": {
        "colab": {
          "base_uri": "https://localhost:8080/"
        },
        "id": "g-SAyphdz12W",
        "outputId": "a75cca03-0b52-44de-c7b8-c73c831bfd0e"
      },
      "source": [
        "#3.\n",
        "li1 = [\"this\", \"is\", \"an\", \"example\"]\n",
        "li2 =  [5, 10, 15, 20]\n",
        "\n",
        "def liststodict(li1,li2):\n",
        "  if len(li1) == len(li2):\n",
        "    d={li1[i] : li2[i] for i in range(0,len(li1)) }\n",
        "  return d\n",
        "\n",
        "print(liststodict(li1,li2))"
      ],
      "execution_count": 28,
      "outputs": [
        {
          "output_type": "stream",
          "name": "stdout",
          "text": [
            "{'this': 5, 'is': 10, 'an': 15, 'example': 20}\n"
          ]
        }
      ]
    },
    {
      "cell_type": "code",
      "metadata": {
        "colab": {
          "base_uri": "https://localhost:8080/"
        },
        "id": "X3afWDOZ1uuJ",
        "outputId": "818b2ed2-143f-4dda-81d3-2c6c0d7ff978"
      },
      "source": [
        "#4.\n",
        "dd = {\"animal\":10, \"car\":50, \"zoo\":500, \"Dog\" : 15, \"Newton\" : 786, \"vamshi\":564,\"KEER\": 143}\n",
        "\n",
        "def sortAlpha(d):\n",
        "  return sorted(list(d),reverse=True)\n",
        "  \n",
        "print(sortAlpha(dd))\n"
      ],
      "execution_count": 52,
      "outputs": [
        {
          "output_type": "stream",
          "name": "stdout",
          "text": [
            "['zoo', 'vamshi', 'car', 'animal', 'Newton', 'KEER', 'Dog']\n"
          ]
        }
      ]
    },
    {
      "cell_type": "code",
      "metadata": {
        "id": "gDyLOjoB2ugZ"
      },
      "source": [
        ""
      ],
      "execution_count": null,
      "outputs": []
    }
  ]
}