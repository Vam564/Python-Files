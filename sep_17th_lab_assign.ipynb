{
  "nbformat": 4,
  "nbformat_minor": 0,
  "metadata": {
    "colab": {
      "name": "sep_17th_lab_assign",
      "provenance": [],
      "collapsed_sections": [],
      "authorship_tag": "ABX9TyPU42sr1Bb/62z+HeKhy5lQ",
      "include_colab_link": true
    },
    "kernelspec": {
      "name": "python3",
      "display_name": "Python 3"
    },
    "language_info": {
      "name": "python"
    }
  },
  "cells": [
    {
      "cell_type": "markdown",
      "metadata": {
        "id": "view-in-github",
        "colab_type": "text"
      },
      "source": [
        "<a href=\"https://colab.research.google.com/github/Vam564/Python-Files/blob/main/sep_17th_lab_assign.ipynb\" target=\"_parent\"><img src=\"https://colab.research.google.com/assets/colab-badge.svg\" alt=\"Open In Colab\"/></a>"
      ]
    },
    {
      "cell_type": "code",
      "metadata": {
        "colab": {
          "base_uri": "https://localhost:8080/",
          "height": 35
        },
        "id": "_pbN4HI4QvtV",
        "outputId": "4b23a890-990e-40f1-9eec-d34e614c72bc"
      },
      "source": [
        "##LAB work starts from here\n",
        "##1. Function that stutters a word\n",
        "def stutter_word(word):\n",
        "  return (2*(word[:2]+\"...\")+word+\"?\")\n",
        "\n",
        "stutter_word(\"vamshi\")"
      ],
      "execution_count": 44,
      "outputs": [
        {
          "output_type": "execute_result",
          "data": {
            "application/vnd.google.colaboratory.intrinsic+json": {
              "type": "string"
            },
            "text/plain": [
              "'va...va...vamshi?'"
            ]
          },
          "metadata": {},
          "execution_count": 44
        }
      ]
    },
    {
      "cell_type": "code",
      "metadata": {
        "colab": {
          "base_uri": "https://localhost:8080/"
        },
        "id": "KuP1A5d_R20k",
        "outputId": "49fc436b-d584-4a34-b699-be83c2285504"
      },
      "source": [
        "##2\n",
        "def curzonNumber(num):\n",
        "  if((2**num)+1 == (2*num + 1)):\n",
        "    print(\"Its is Curzon Number\",num)\n",
        "  else:\n",
        "    print(\"Its not a Curzon Number\")\n",
        "\n",
        "curzonNumber(1)"
      ],
      "execution_count": 21,
      "outputs": [
        {
          "output_type": "stream",
          "name": "stdout",
          "text": [
            "Its is Curzon Number 1\n"
          ]
        }
      ]
    },
    {
      "cell_type": "code",
      "metadata": {
        "colab": {
          "base_uri": "https://localhost:8080/"
        },
        "id": "X4P2LVh0R6-_",
        "outputId": "a70e275c-175d-49ae-eafd-bfff271840e4"
      },
      "source": [
        "##3.\n",
        "def factorial_func(n):\n",
        "  x=0\n",
        "  if(n == 0):\n",
        "    print('''The factorial of \"0\" is \"1\" ''')\n",
        "  else:  \n",
        "    for i in range(n+1):\n",
        "      x =x+ n*(n-1)\n",
        "    print(\"The factorial of\",n,\" is\", x)\n",
        "factorial_func(5)"
      ],
      "execution_count": 32,
      "outputs": [
        {
          "output_type": "stream",
          "name": "stdout",
          "text": [
            "The factorial of 5  is 120\n"
          ]
        }
      ]
    },
    {
      "cell_type": "code",
      "metadata": {
        "colab": {
          "base_uri": "https://localhost:8080/"
        },
        "id": "70RvCwvKV-si",
        "outputId": "681b634d-2f6d-47a5-d17c-a066f919fee3"
      },
      "source": [
        "##4.\n",
        "def evenly_divided(a,b,c):\n",
        "  x = 0\n",
        "  for i in range(a,b+1):\n",
        "    if(i%c == 0):\n",
        "      x = x +i\n",
        "      print(i,\"Divided evenly\")\n",
        "  print(x)\n",
        "\n",
        "evenly_divided(2,6,3)"
      ],
      "execution_count": 83,
      "outputs": [
        {
          "output_type": "stream",
          "name": "stdout",
          "text": [
            "3 Divided evenly\n",
            "6 Divided evenly\n",
            "9\n"
          ]
        }
      ]
    },
    {
      "cell_type": "code",
      "metadata": {
        "colab": {
          "base_uri": "https://localhost:8080/"
        },
        "id": "eXP0RL4LZbbh",
        "outputId": "dd540fbf-4cfa-454f-aa9b-1480fd211008"
      },
      "source": [
        "##5\n",
        "def replace_vowel(str,ch):\n",
        "  vowels = \"AEIOUaeiou\"\n",
        "  for i in vowels:\n",
        "    str = str.replace(i,ch)\n",
        "  \n",
        "  print(str)\n",
        "\n",
        "replace_vowel(\"Vamshi\",'Z')"
      ],
      "execution_count": 46,
      "outputs": [
        {
          "output_type": "stream",
          "name": "stdout",
          "text": [
            "VZmshZ\n"
          ]
        }
      ]
    },
    {
      "cell_type": "code",
      "metadata": {
        "colab": {
          "base_uri": "https://localhost:8080/"
        },
        "id": "prT9FgOKa9rq",
        "outputId": "302c5a4d-244f-4973-81a5-7c4d2ca513db"
      },
      "source": [
        "##6\n",
        "def string_reverse_cap_reverse(str_1):\n",
        "  str_1 = str_1[::-1]\n",
        "  print(\"The reverse version of string\",str_1)\n",
        "  x = len(str_1)\n",
        "  for i in range(x):\n",
        "    if(str_1[i].islower()):\n",
        "     str_1 = str_1.replace(str_1[i],str_1[i].upper())\n",
        "    else:\n",
        "      str_1 =  str_1.replace(str_1[i],str_1[i].lower())\n",
        "  print(\" The opposite case of string\",str_1)\n",
        "\n",
        "string_reverse_cap_reverse(\"Vamshi\")"
      ],
      "execution_count": 79,
      "outputs": [
        {
          "output_type": "stream",
          "name": "stdout",
          "text": [
            "ihsmaV\n",
            "IHSMAv\n"
          ]
        }
      ]
    },
    {
      "cell_type": "code",
      "metadata": {
        "colab": {
          "base_uri": "https://localhost:8080/"
        },
        "id": "NERvsRftffCR",
        "outputId": "42c4a7f5-d32e-40d6-caf6-e5b59b589683"
      },
      "source": [
        "##7\n",
        "def discount(opr,dpc):\n",
        "  x = (opr*dpc)/100\n",
        "  print(\"Orginal price is\",opr- x)\n",
        "\n",
        "discount(100,20)\n"
      ],
      "execution_count": 69,
      "outputs": [
        {
          "output_type": "stream",
          "name": "stdout",
          "text": [
            "Orginal price is 80.0\n"
          ]
        }
      ]
    },
    {
      "cell_type": "code",
      "metadata": {
        "colab": {
          "base_uri": "https://localhost:8080/"
        },
        "id": "tnCVfyT1lJM0",
        "outputId": "2096e2ca-0a00-409a-905f-a1b14c58c4c7"
      },
      "source": [
        "##8\n",
        "def return_num_length(num):\n",
        "  num = str(num)\n",
        "  print(len(num))\n",
        "\n",
        "return_num_length(10)\n"
      ],
      "execution_count": 72,
      "outputs": [
        {
          "output_type": "stream",
          "name": "stdout",
          "text": [
            "2\n"
          ]
        }
      ]
    },
    {
      "cell_type": "code",
      "metadata": {
        "colab": {
          "base_uri": "https://localhost:8080/"
        },
        "id": "lnn9bx9lljG8",
        "outputId": "3d6918ed-ccbe-4b75-ad92-8b77cca5c0b5"
      },
      "source": [
        "## Bonus question\n",
        "def multiplesOfNum(num,len):\n",
        "  for i in range(len):\n",
        "    print(\"Multiples of Num\",i*num)\n",
        "\n",
        "multiplesOfNum(9,10)\n"
      ],
      "execution_count": 82,
      "outputs": [
        {
          "output_type": "stream",
          "name": "stdout",
          "text": [
            "0\n",
            "9\n",
            "18\n",
            "27\n",
            "36\n",
            "45\n",
            "54\n",
            "63\n",
            "72\n",
            "81\n"
          ]
        }
      ]
    },
    {
      "cell_type": "code",
      "metadata": {
        "id": "_sH0g1VFo9GT"
      },
      "source": [
        ""
      ],
      "execution_count": null,
      "outputs": []
    }
  ]
}