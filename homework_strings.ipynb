{
  "nbformat": 4,
  "nbformat_minor": 0,
  "metadata": {
    "colab": {
      "name": "homework_strings",
      "provenance": [],
      "collapsed_sections": [],
      "authorship_tag": "ABX9TyND7cgjU7P3B0G/agtU6LNX",
      "include_colab_link": true
    },
    "kernelspec": {
      "name": "python3",
      "display_name": "Python 3"
    },
    "language_info": {
      "name": "python"
    }
  },
  "cells": [
    {
      "cell_type": "markdown",
      "metadata": {
        "id": "view-in-github",
        "colab_type": "text"
      },
      "source": [
        "<a href=\"https://colab.research.google.com/github/Vam564/Python-Files/blob/main/homework_strings.ipynb\" target=\"_parent\"><img src=\"https://colab.research.google.com/assets/colab-badge.svg\" alt=\"Open In Colab\"/></a>"
      ]
    },
    {
      "cell_type": "code",
      "metadata": {
        "colab": {
          "base_uri": "https://localhost:8080/"
        },
        "id": "ParQvgQOE0Jk",
        "outputId": "65467f68-b048-4982-c7bb-d05630a14f1d"
      },
      "source": [
        "#1.\n",
        "small_string = \"\"\" Auf dem Fluß hingen des Morgens Nebel, die sich in zarten Tönungen auch noch über die Uferwiesen hin erstreckten. In den Straßen sangen nach altem thüringer Brauch die »Kurrendeschüler« mit ihren schwarzen Chormäntelchen angethan. Sie zogen von Haus zu Haus, sangen mit Engelsstimmen und schimpften einander dazwischen, als die Gassenbuben die sie waren. Von den Bäumen plauzten schon die reifen Kastanien, zerbarsten und rollten schillernd über den Weg.\n",
        "\n",
        "In wenig Tagen würde man auch das Schwimmbad schließen müssen, denn schon traute sich niemand mehr in das abgekühlte Wasser, ausgenommen Fräulein Esther Franzenius. Fräulein Esther aber würde gewiß nicht eher aufhören ihre sehr schlanken, kraftvollen Glieder gegen das Wasser zu spannen, bis ihr das erste Nachteis die Haut ritzte.\n",
        "\n",
        "Esther Franzenius ging über die Wiesen, da steifte sich ihr der Wind entgegen und zerrte an ihren vom Wasser feuchtdunklen Haarsträhnen, die immer zu lang in das Gesicht fielen. Und sie bog ein wenig den Oberkörper zurück, und eine Tragkraft ging durch ihren ganzen Leib, als sei er ein feiner, stolzer Bau, den festgefügte Steine gen Himmel heben.\n",
        "\n",
        "Dann ging sie durch die grauen Gassen mit dem Pflaster von Anno dazumal und zuletzt die kleine Anhöhe hinauf.\n",
        "\n",
        "Ja, ganz versteckt lag das Haus, in dem Esther wohnte. Eine hohe, breitbuchtende Ligusterhecke umsperrte den Garten.\n",
        "\n",
        "Maria kam über den Weg ihr entgegen. Maria war schön und strahlend – auch in ihrem Mißmut. Maria nahm alle Herzen hin, und selbst die Baumwürzelein freuten sich, wenn sie vom Kleidersaum der Allerschönsten gestreichelt wurden. Ja, Maria hatte ein gesegnetes Angesicht.\n",
        "\n",
        "»Ist er noch nicht bei Dir?« frug Esther die Schwester.\n",
        "\n",
        "»Oh, er wird schon kommen.«\n",
        "\n",
        "Und da war er auch schon. Vamshi Hi Vamshi Hi\n",
        "\n",
        "Erst gingen seine Augen zu der blonden Maria, wie das ganz natürlich war. Sie verfingen sich förmlich in ihren Blicken, sie ließen nicht los, so daß die Hände ungeleitet zu einander tasten mußten.\n",
        "\n",
        "In Esther klang das wieder, was er fühlte in diesem Augenblick: Es mußte ihm sein, wie ein Ausruhen nach langem ermüdendem Steigen – ein Erlösungsgefühl – und Dank. \"\"\"\n",
        "\n",
        "\n",
        "def has_duplicates(small_string):\n",
        "  words = small_string.split()\n",
        "  for word in words:\n",
        "    for i in range(len(word)):\n",
        "        for j in range(i + 1,len(word)):\n",
        "            if(word[i] == word[j]):\n",
        "                return False;\n",
        "\n",
        "    \n",
        "  return True;\n",
        "    \n",
        "\n",
        "has_duplicates(small_string)\n"
      ],
      "execution_count": 6,
      "outputs": [
        {
          "output_type": "execute_result",
          "data": {
            "text/plain": [
              "False"
            ]
          },
          "metadata": {},
          "execution_count": 6
        }
      ]
    },
    {
      "cell_type": "code",
      "metadata": {
        "colab": {
          "base_uri": "https://localhost:8080/",
          "height": 35
        },
        "id": "fNSskX1hGIBX",
        "outputId": "e4c2d0af-320d-423c-eaa4-6248421fcc2f"
      },
      "source": [
        "#2.\n",
        "line = \"This is a Goal\"\n",
        "\n",
        "def pig_latin(line):\n",
        "  words = line.split()\n",
        "  for i,word in enumerate(words):\n",
        "    if word[0] in 'aeiouAEIOU':\n",
        "      words[i] = \"way\" + words[i]\n",
        "    else:\n",
        "      for j,letter in enumerate(word):\n",
        "        if letter in 'aeiouAEIOU':\n",
        "           words[i] = word[j:] + word[:j] + \"ay\"\n",
        "           break\n",
        "  return ' '.join(words)\n",
        "\n",
        "pig_latin(line)\n",
        "          \n",
        "\n"
      ],
      "execution_count": 12,
      "outputs": [
        {
          "output_type": "execute_result",
          "data": {
            "application/vnd.google.colaboratory.intrinsic+json": {
              "type": "string"
            },
            "text/plain": [
              "'isThay wayis waya oalGay'"
            ]
          },
          "metadata": {},
          "execution_count": 12
        }
      ]
    },
    {
      "cell_type": "code",
      "metadata": {
        "colab": {
          "base_uri": "https://localhost:8080/"
        },
        "id": "9-le8c_mMwot",
        "outputId": "bf5239a5-369d-4f14-ee21-26a7ef62f996"
      },
      "source": [
        "#3\n",
        "import re\n",
        "long_string = \"\"\" Auf dem Fluß hingen des Morgens Nebel, die sich in zarten Tönungen auch noch über die Uferwiesen hin erstreckten. In den Straßen sangen nach altem thüringer Brauch die »Kurrendeschüler« mit ihren schwarzen Chormäntelchen angethan. Sie zogen von Haus zu Haus, sangen mit Engelsstimmen und schimpften einander dazwischen, als die Gassenbuben die sie waren. Von den Bäumen plauzten schon die reifen Kastanien, zerbarsten und rollten schillernd über den Weg.\n",
        "\n",
        "In wenig Tagen würde man auch das Schwimmbad schließen müssen, denn schon traute sich niemand mehr in das abgekühlte Wasser, ausgenommen Fräulein Esther Franzenius. Fräulein Esther aber würde gewiß nicht eher aufhören ihre sehr schlanken, kraftvollen Glieder gegen das Wasser zu spannen, bis ihr das erste Nachteis die Haut ritzte.\n",
        "\n",
        "Esther Franzenius ging über die Wiesen, da steifte sich ihr der Wind entgegen und zerrte an ihren vom Wasser feuchtdunklen Haarsträhnen, die immer zu lang in das Gesicht fielen. Und sie bog ein wenig den Oberkörper zurück, und eine Tragkraft ging durch ihren ganzen Leib, als sei er ein feiner, stolzer Bau, den festgefügte Steine gen Himmel heben.\n",
        "\n",
        "Dann ging sie durch die grauen Gassen mit dem Pflaster von Anno dazumal und zuletzt die kleine Anhöhe hinauf.\n",
        "\n",
        "Ja, ganz versteckt lag das Haus, in dem Esther wohnte. Eine hohe, breitbuchtende Ligusterhecke umsperrte den Garten.\n",
        "\n",
        "Maria kam über den Weg ihr entgegen. Maria war schön und strahlend – auch in ihrem Mißmut. Maria nahm alle Herzen hin, und selbst die Baumwürzelein freuten sich, wenn sie vom Kleidersaum der Allerschönsten gestreichelt wurden. Ja, Maria hatte ein gesegnetes Angesicht.\n",
        "\n",
        "»Ist er noch nicht bei Dir?« frug Esther die Schwester.\n",
        "\n",
        "»Oh, er wird schon kommen.«\n",
        "\n",
        "Und da war er auch schon. Vamshi Hi Vamshi Hi\n",
        "\n",
        "Erst gingen seine Augen zu der blonden Maria, wie das ganz natürlich war. Sie verfingen sich förmlich in ihren Blicken, sie ließen nicht los, so daß die Hände ungeleitet zu einander tasten mußten.\n",
        "\n",
        "In Esther klang das wieder, was er fühlte in diesem Augenblick: Es mußte ihm sein, wie ein Ausruhen nach langem ermüdendem Steigen – ein Erlösungsgefühl – und Dank. \"\"\"\n",
        "\n",
        "#returning all tokens in the lone_string paragraph\n",
        "tokens = re.findall(r\"[\\w']+|[.,!?;]\", long_string)\n",
        "print(tokens)\n",
        "# returnig all set of tokens \n",
        "print(set(tokens))\n"
      ],
      "execution_count": 1,
      "outputs": [
        {
          "output_type": "stream",
          "name": "stdout",
          "text": [
            "['Auf', 'dem', 'Fluß', 'hingen', 'des', 'Morgens', 'Nebel', ',', 'die', 'sich', 'in', 'zarten', 'Tönungen', 'auch', 'noch', 'über', 'die', 'Uferwiesen', 'hin', 'erstreckten', '.', 'In', 'den', 'Straßen', 'sangen', 'nach', 'altem', 'thüringer', 'Brauch', 'die', 'Kurrendeschüler', 'mit', 'ihren', 'schwarzen', 'Chormäntelchen', 'angethan', '.', 'Sie', 'zogen', 'von', 'Haus', 'zu', 'Haus', ',', 'sangen', 'mit', 'Engelsstimmen', 'und', 'schimpften', 'einander', 'dazwischen', ',', 'als', 'die', 'Gassenbuben', 'die', 'sie', 'waren', '.', 'Von', 'den', 'Bäumen', 'plauzten', 'schon', 'die', 'reifen', 'Kastanien', ',', 'zerbarsten', 'und', 'rollten', 'schillernd', 'über', 'den', 'Weg', '.', 'In', 'wenig', 'Tagen', 'würde', 'man', 'auch', 'das', 'Schwimmbad', 'schließen', 'müssen', ',', 'denn', 'schon', 'traute', 'sich', 'niemand', 'mehr', 'in', 'das', 'abgekühlte', 'Wasser', ',', 'ausgenommen', 'Fräulein', 'Esther', 'Franzenius', '.', 'Fräulein', 'Esther', 'aber', 'würde', 'gewiß', 'nicht', 'eher', 'aufhören', 'ihre', 'sehr', 'schlanken', ',', 'kraftvollen', 'Glieder', 'gegen', 'das', 'Wasser', 'zu', 'spannen', ',', 'bis', 'ihr', 'das', 'erste', 'Nachteis', 'die', 'Haut', 'ritzte', '.', 'Esther', 'Franzenius', 'ging', 'über', 'die', 'Wiesen', ',', 'da', 'steifte', 'sich', 'ihr', 'der', 'Wind', 'entgegen', 'und', 'zerrte', 'an', 'ihren', 'vom', 'Wasser', 'feuchtdunklen', 'Haarsträhnen', ',', 'die', 'immer', 'zu', 'lang', 'in', 'das', 'Gesicht', 'fielen', '.', 'Und', 'sie', 'bog', 'ein', 'wenig', 'den', 'Oberkörper', 'zurück', ',', 'und', 'eine', 'Tragkraft', 'ging', 'durch', 'ihren', 'ganzen', 'Leib', ',', 'als', 'sei', 'er', 'ein', 'feiner', ',', 'stolzer', 'Bau', ',', 'den', 'festgefügte', 'Steine', 'gen', 'Himmel', 'heben', '.', 'Dann', 'ging', 'sie', 'durch', 'die', 'grauen', 'Gassen', 'mit', 'dem', 'Pflaster', 'von', 'Anno', 'dazumal', 'und', 'zuletzt', 'die', 'kleine', 'Anhöhe', 'hinauf', '.', 'Ja', ',', 'ganz', 'versteckt', 'lag', 'das', 'Haus', ',', 'in', 'dem', 'Esther', 'wohnte', '.', 'Eine', 'hohe', ',', 'breitbuchtende', 'Ligusterhecke', 'umsperrte', 'den', 'Garten', '.', 'Maria', 'kam', 'über', 'den', 'Weg', 'ihr', 'entgegen', '.', 'Maria', 'war', 'schön', 'und', 'strahlend', 'auch', 'in', 'ihrem', 'Mißmut', '.', 'Maria', 'nahm', 'alle', 'Herzen', 'hin', ',', 'und', 'selbst', 'die', 'Baumwürzelein', 'freuten', 'sich', ',', 'wenn', 'sie', 'vom', 'Kleidersaum', 'der', 'Allerschönsten', 'gestreichelt', 'wurden', '.', 'Ja', ',', 'Maria', 'hatte', 'ein', 'gesegnetes', 'Angesicht', '.', 'Ist', 'er', 'noch', 'nicht', 'bei', 'Dir', '?', 'frug', 'Esther', 'die', 'Schwester', '.', 'Oh', ',', 'er', 'wird', 'schon', 'kommen', '.', 'Und', 'da', 'war', 'er', 'auch', 'schon', '.', 'Vamshi', 'Hi', 'Vamshi', 'Hi', 'Erst', 'gingen', 'seine', 'Augen', 'zu', 'der', 'blonden', 'Maria', ',', 'wie', 'das', 'ganz', 'natürlich', 'war', '.', 'Sie', 'verfingen', 'sich', 'förmlich', 'in', 'ihren', 'Blicken', ',', 'sie', 'ließen', 'nicht', 'los', ',', 'so', 'daß', 'die', 'Hände', 'ungeleitet', 'zu', 'einander', 'tasten', 'mußten', '.', 'In', 'Esther', 'klang', 'das', 'wieder', ',', 'was', 'er', 'fühlte', 'in', 'diesem', 'Augenblick', 'Es', 'mußte', 'ihm', 'sein', ',', 'wie', 'ein', 'Ausruhen', 'nach', 'langem', 'ermüdendem', 'Steigen', 'ein', 'Erlösungsgefühl', 'und', 'Dank', '.']\n",
            "{'klang', 'Tragkraft', 'sich', 'fielen', 'denn', 'wieder', 'Engelsstimmen', 'natürlich', 'gegen', 'lang', 'hohe', 'wird', 'Anhöhe', 'sie', 'In', 'zerrte', 'abgekühlte', 'Bau', 'Leib', 'feuchtdunklen', 'Ligusterhecke', 'gesegnetes', 'verfingen', 'kraftvollen', 'bis', 'als', 'Mißmut', 'Sie', 'zogen', 'Wiesen', 'Chormäntelchen', 'aufhören', 'er', 'rollten', 'ihren', 'kommen', 'Vamshi', 'Augen', 'Glieder', 'schlanken', 'Schwimmbad', 'Anno', 'schimpften', 'eine', 'breitbuchtende', 'ganz', 'Kastanien', 'was', 'zu', 'nach', 'da', 'festgefügte', 'Straßen', 'Nebel', '?', 'ging', 'Esther', 'entgegen', 'blonden', 'ihrem', 'Kleidersaum', 'freuten', 'grauen', 'altem', 'sehr', 'spannen', 'Steine', 'hinauf', 'reifen', 'ihm', 'Erst', 'traute', 'Kurrendeschüler', 'lag', 'ließen', 'Dir', 'wenig', 'Weg', 'dazwischen', 'Gassen', 'Nachteis', 'angethan', 'alle', 'die', 'Brauch', 'ritzte', 'eher', 'Pflaster', 'Augenblick', 'zuletzt', 'Es', 'dem', 'ein', 'Von', 'des', 'Wind', ',', 'niemand', 'noch', 'Erlösungsgefühl', 'ihre', 'hin', 'zerbarsten', 'schön', 'auch', 'bog', 'feiner', 'Uferwiesen', 'frug', 'fühlte', 'mußte', 'Tönungen', 'wie', 'Angesicht', 'zurück', 'versteckt', 'so', 'Haus', 'schließen', 'Dann', 'müssen', 'plauzten', 'umsperrte', 'Herzen', 'wenn', 'Gassenbuben', 'seine', 'Ausruhen', 'mehr', 'steifte', 'an', 'Eine', 'selbst', 'förmlich', 'thüringer', 'schillernd', 'Gesicht', 'Auf', 'hatte', 'Oh', 'daß', 'würde', 'wurden', 'Hände', 'das', 'über', 'Hi', 'sein', 'strahlend', 'schon', 'einander', 'gestreichelt', 'durch', 'diesem', 'mußten', 'nahm', 'Und', 'Oberkörper', 'Himmel', 'ausgenommen', 'ihr', 'Ist', 'gingen', 'tasten', 'Schwester', 'aber', 'Allerschönsten', 'den', 'erstreckten', 'Haut', 'los', 'ungeleitet', 'war', 'Bäumen', 'Garten', 'Franzenius', 'ganzen', 'Tagen', 'langem', 'Fräulein', 'dazumal', 'Blicken', 'Haarsträhnen', 'in', 'der', 'schwarzen', 'von', 'heben', 'mit', 'Dank', 'bei', 'hingen', 'sangen', 'Morgens', 'kam', 'ermüdendem', 'sei', 'zarten', 'gewiß', 'vom', 'immer', 'wohnte', 'und', '.', 'Maria', 'Steigen', 'Baumwürzelein', 'kleine', 'Wasser', 'Fluß', 'stolzer', 'gen', 'nicht', 'Ja', 'man', 'erste', 'waren'}\n"
          ]
        }
      ]
    },
    {
      "cell_type": "code",
      "metadata": {
        "colab": {
          "base_uri": "https://localhost:8080/"
        },
        "id": "ZRBAVoLBQefT",
        "outputId": "6f786671-d912-4db2-935d-edd68350877f"
      },
      "source": [
        "#3. 3) Use has_duplicates function from number 1. Return a list of words in your paragraph where has_duplicates is True.\n",
        "\n",
        "has_duplicates(long_string)\n"
      ],
      "execution_count": 8,
      "outputs": [
        {
          "output_type": "execute_result",
          "data": {
            "text/plain": [
              "False"
            ]
          },
          "metadata": {},
          "execution_count": 8
        }
      ]
    },
    {
      "cell_type": "code",
      "metadata": {
        "id": "AL2srfEURzxv",
        "colab": {
          "base_uri": "https://localhost:8080/",
          "height": 139
        },
        "outputId": "5ddb7b27-0fec-412a-c8a6-89f44980c2e7"
      },
      "source": [
        "#3.4)Use your piglatin function from question 2. Return a string paragraph where all words in the original have been converted to piglatin \n",
        "pig_latin(long_string)"
      ],
      "execution_count": 13,
      "outputs": [
        {
          "output_type": "execute_result",
          "data": {
            "application/vnd.google.colaboratory.intrinsic+json": {
              "type": "string"
            },
            "text/plain": [
              "'wayAuf emday ußFlay ingenhay esday orgensMay ebel,Nay ieday ichsay wayin artenzay ungenTönay wayauch ochnay erübay ieday wayUferwiesen inhay wayerstreckten. wayIn enday aßenStray angensay achnay wayaltem ingerthüray auchBray ieday urrendeschüler«»Kay itmay wayihren arzenschway ormäntelchenChay wayangethan. ieSay ogenzay onvay ausHay uzay aus,Hay angensay itmay wayEngelsstimmen wayund impftenschay wayeinander azwischen,day wayals ieday assenbubenGay ieday iesay aren.way onVay enday umenBäay auztenplay onschay ieday eifenray astanien,Kay erbarstenzay wayund olltenray illerndschay erübay enday eg.Way wayIn enigway agenTay ewürday anmay wayauch asday immbadSchway ießenschlay en,müssay ennday onschay autetray ichsay iemandnay ehrmay wayin asday wayabgekühlte asser,Way wayausgenommen uleinFräay wayEsther anzenius.Fray uleinFräay wayEsther wayaber ewürday ewißgay ichtnay wayeher wayaufhören wayihre ehrsay anken,schlay aftvollenkray iederGlay egengay asday asserWay uzay annen,spay isbay wayihr asday wayerste achteisNay ieday autHay itzte.ray wayEsther anzeniusFray inggay erübay ieday iesen,Way aday eiftestay ichsay wayihr erday indWay wayentgegen wayund errtezay wayan wayihren omvay asserWay euchtdunklenfay aarsträhnen,Hay ieday wayimmer uzay anglay wayin asday esichtGay ielen.fay wayUnd iesay ogbay wayein enigway enday wayOberkörper urück,zay wayund wayeine agkraftTray inggay urchday wayihren anzengay eib,Lay wayals eisay wayer wayein einer,fay olzerstay au,Bay enday estgefügtefay eineStay engay immelHay eben.hay annDay inggay iesay urchday ieday auengray assenGay itmay emday asterPflay onvay wayAnno azumalday wayund uletztzay ieday eineklay wayAnhöhe inauf.hay a,Jay anzgay erstecktvay aglay asday aus,Hay wayin emday wayEsther ohnte.way wayEine ohe,hay eitbuchtendebray igusterheckeLay wayumsperrte enday arten.Gay ariaMay amkay erübay enday egWay wayihr wayentgegen. ariaMay arway schön wayund ahlendstray – wayauch wayin wayihrem ißmut.May ariaMay ahmnay wayalle erzenHay in,hay wayund elbstsay ieday aumwürzeleinBay eutenfray ich,say ennway iesay omvay eidersaumKlay erday wayAllerschönsten estreicheltgay urden.way a,Jay ariaMay attehay wayein esegnetesgay wayAngesicht. Ist»ay wayer ochnay ichtnay eibay ir?«Day ugfray wayEsther ieday ester.Schway Oh,»ay wayer irdway onschay ommen.«kay wayUnd aday arway wayer wayauch on.schay amshiVay iHay amshiVay iHay wayErst ingengay einesay wayAugen uzay erday ondenblay aria,May ieway asday anzgay atürlichnay ar.way ieSay erfingenvay ichsay ichförmlay wayin wayihren icken,Blay iesay ießenlay ichtnay os,lay osay aßday ieday eHänday wayungeleitet uzay wayeinander astentay ußten.may wayIn wayEsther angklay asday ieder,way asway wayer efühltay wayin iesemday wayAugenblick: wayEs ußtemay wayihm ein,say ieway wayein wayAusruhen achnay angemlay wayermüdendem eigenStay – wayein wayErlösungsgefühl – wayund ank.Day'"
            ]
          },
          "metadata": {},
          "execution_count": 13
        }
      ]
    },
    {
      "cell_type": "code",
      "metadata": {
        "id": "8odVCF-OPur6"
      },
      "source": [
        ""
      ],
      "execution_count": null,
      "outputs": []
    }
  ]
}