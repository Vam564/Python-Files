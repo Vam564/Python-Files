{
  "nbformat": 4,
  "nbformat_minor": 0,
  "metadata": {
    "colab": {
      "name": "Final_Exam.ipynb",
      "provenance": [],
      "authorship_tag": "ABX9TyMpb6x8PUxq6EjT4sA46Vh0",
      "include_colab_link": true
    },
    "kernelspec": {
      "name": "python3",
      "display_name": "Python 3"
    },
    "language_info": {
      "name": "python"
    }
  },
  "cells": [
    {
      "cell_type": "markdown",
      "metadata": {
        "id": "view-in-github",
        "colab_type": "text"
      },
      "source": [
        "<a href=\"https://colab.research.google.com/github/Vam564/Python-Files/blob/main/Final_Exam.ipynb\" target=\"_parent\"><img src=\"https://colab.research.google.com/assets/colab-badge.svg\" alt=\"Open In Colab\"/></a>"
      ]
    },
    {
      "cell_type": "markdown",
      "metadata": {
        "id": "E1LQ8nV3a9Qt"
      },
      "source": [
        "1.Write a function to find the longest common prefix string amongst an array of strings. If there is no common prefix, return an empty string \"\"."
      ]
    },
    {
      "cell_type": "code",
      "metadata": {
        "id": "spWunJvHbRP8"
      },
      "source": [
        "# Sub function to compare the strings\n",
        "def same_string(str1,str2):\n",
        "  prefix=\"\"\n",
        "  if len(str1) == len(str2):\n",
        "    for i in range(0,len(str1)):\n",
        "      if str1[0] == str2[0]:\n",
        "        if str1[i] == str2[i]:\n",
        "          prefix=prefix+str1[i]\n",
        "  elif len(str1) > len(str2):\n",
        "    for i in range(0,len(str2)):\n",
        "      if str1[0] == str2[0]:\n",
        "        if str2[i] == str1[i]:\n",
        "          prefix=prefix+str2[i]\n",
        "  else:\n",
        "    for i in range(0,len(str1)):\n",
        "      if str1[0] == str2[0]:\n",
        "        if str1[i] == str2[i]:\n",
        "          prefix=prefix+str1[i]\n",
        "\n",
        "  return prefix\n",
        "\n",
        "def return_prefix(strs):\n",
        "  li = []\n",
        "  length = len(strs)\n",
        "  for i,string in enumerate(strs):\n",
        "    for ind,j in enumerate(strs):\n",
        "      z = same_string(string,j)\n",
        "      li.append(z)\n",
        "  return max(set(li), key = li.count)\n",
        " "
      ],
      "execution_count": 31,
      "outputs": []
    },
    {
      "cell_type": "code",
      "metadata": {
        "colab": {
          "base_uri": "https://localhost:8080/",
          "height": 35
        },
        "id": "Xy2spnlIkgAm",
        "outputId": "67dff238-0d1f-4a5f-f282-0d2d28b1005b"
      },
      "source": [
        "# First Question Example 1:\n",
        "return_prefix([\"flower\",\"flow\",\"flight\"])"
      ],
      "execution_count": 16,
      "outputs": [
        {
          "output_type": "execute_result",
          "data": {
            "application/vnd.google.colaboratory.intrinsic+json": {
              "type": "string"
            },
            "text/plain": [
              "'fl'"
            ]
          },
          "metadata": {},
          "execution_count": 16
        }
      ]
    },
    {
      "cell_type": "code",
      "metadata": {
        "colab": {
          "base_uri": "https://localhost:8080/",
          "height": 35
        },
        "id": "yU4ePR35rHT5",
        "outputId": "18c2d7cc-1424-45f1-f41e-112fca31bfde"
      },
      "source": [
        "# First Question Example 2:\n",
        "return_prefix([\"dog\",\"racecar\",\"car\"])"
      ],
      "execution_count": 33,
      "outputs": [
        {
          "output_type": "execute_result",
          "data": {
            "application/vnd.google.colaboratory.intrinsic+json": {
              "type": "string"
            },
            "text/plain": [
              "''"
            ]
          },
          "metadata": {},
          "execution_count": 33
        }
      ]
    },
    {
      "cell_type": "markdown",
      "metadata": {
        "id": "tkCca9QgrZGt"
      },
      "source": [
        "2. The Catalan numbers arise in many applications of combinatorial mathematics, including the counting of parse trees (6). The series can be defined as follows: C0 = 1, and Cn+1 = Σ0..n (CiCn-i). Question 26 in NLTK chapter 4. 50 pts\n",
        "\n",
        "  1. Write a recursive function to compute nth Catalan number Cn.\n",
        "  2. Use the timeit module to compare the performance of these functions as n increases.\n"
      ]
    },
    {
      "cell_type": "code",
      "metadata": {
        "colab": {
          "base_uri": "https://localhost:8080/"
        },
        "id": "zK1Zy6bFrPCs",
        "outputId": "7772317b-c458-4a86-c475-d95f2ad6c9dc"
      },
      "source": [
        "#1\n",
        "\n",
        "def catalan(n):\n",
        "  if n<=1:\n",
        "    return 1\n",
        "  sum = 0\n",
        "  for i in range(n):\n",
        "    sum += catalan(i)*catalan(n-i-1)\n",
        "  return sum\n",
        "\n",
        "for i in range(10):\n",
        "  print(catalan(i))"
      ],
      "execution_count": 2,
      "outputs": [
        {
          "output_type": "stream",
          "name": "stdout",
          "text": [
            "1\n",
            "1\n",
            "2\n",
            "5\n",
            "14\n",
            "42\n",
            "132\n",
            "429\n",
            "1430\n",
            "4862\n"
          ]
        }
      ]
    },
    {
      "cell_type": "code",
      "metadata": {
        "colab": {
          "base_uri": "https://localhost:8080/"
        },
        "id": "UZIxN1-5nonn",
        "outputId": "0c02e8d3-04be-4606-9fc1-8d855d4fa61c"
      },
      "source": [
        "#2 \n",
        "import timeit\n",
        "for i in range(10):\n",
        "  %timeit catalan(i)"
      ],
      "execution_count": 22,
      "outputs": [
        {
          "output_type": "stream",
          "name": "stdout",
          "text": [
            "The slowest run took 24.01 times longer than the fastest. This could mean that an intermediate result is being cached.\n",
            "10000000 loops, best of 5: 140 ns per loop\n",
            "The slowest run took 13.15 times longer than the fastest. This could mean that an intermediate result is being cached.\n",
            "10000000 loops, best of 5: 139 ns per loop\n",
            "1000000 loops, best of 5: 1.06 µs per loop\n",
            "100000 loops, best of 5: 3.17 µs per loop\n",
            "100000 loops, best of 5: 9.73 µs per loop\n",
            "10000 loops, best of 5: 28.7 µs per loop\n",
            "10000 loops, best of 5: 87.2 µs per loop\n",
            "1000 loops, best of 5: 260 µs per loop\n",
            "1000 loops, best of 5: 789 µs per loop\n",
            "100 loops, best of 5: 2.36 ms per loop\n"
          ]
        }
      ]
    },
    {
      "cell_type": "code",
      "metadata": {
        "id": "oJuZYmPTpvUt"
      },
      "source": [
        ""
      ],
      "execution_count": 32,
      "outputs": []
    },
    {
      "cell_type": "code",
      "metadata": {
        "id": "Li6PIh7dmqwg"
      },
      "source": [
        ""
      ],
      "execution_count": null,
      "outputs": []
    }
  ]
}