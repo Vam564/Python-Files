{
  "nbformat": 4,
  "nbformat_minor": 0,
  "metadata": {
    "colab": {
      "name": "lists_Hmework_assignments",
      "provenance": [],
      "collapsed_sections": [],
      "authorship_tag": "ABX9TyONoNqO7qjzcwp1gf339K14",
      "include_colab_link": true
    },
    "kernelspec": {
      "name": "python3",
      "display_name": "Python 3"
    },
    "language_info": {
      "name": "python"
    }
  },
  "cells": [
    {
      "cell_type": "markdown",
      "metadata": {
        "id": "view-in-github",
        "colab_type": "text"
      },
      "source": [
        "<a href=\"https://colab.research.google.com/github/Vam564/Python-Files/blob/main/lists_Hmework_assignments.ipynb\" target=\"_parent\"><img src=\"https://colab.research.google.com/assets/colab-badge.svg\" alt=\"Open In Colab\"/></a>"
      ]
    },
    {
      "cell_type": "code",
      "metadata": {
        "colab": {
          "base_uri": "https://localhost:8080/"
        },
        "id": "mrXNbFSkZlim",
        "outputId": "97a0254c-8a14-4952-abb4-c20f37f13ce8"
      },
      "source": [
        "#1.\n",
        "li = [\"q\",\"d\",\"i\",\"p\",\"z\"]\n",
        "def is_sorted(li):\n",
        "  if sorted(li) == li:\n",
        "   return True\n",
        "  else:\n",
        "    return False\n",
        "\n",
        "print(is_sorted(li))"
      ],
      "execution_count": 20,
      "outputs": [
        {
          "output_type": "stream",
          "name": "stdout",
          "text": [
            "False\n"
          ]
        }
      ]
    },
    {
      "cell_type": "code",
      "metadata": {
        "colab": {
          "base_uri": "https://localhost:8080/"
        },
        "id": "JHq8HUxTeB7V",
        "outputId": "1e4f24ce-d3c9-486d-9b56-0d831b470f8e"
      },
      "source": [
        "#2.\n",
        "def is_anagram(s1,s2):\n",
        "  for i in range(0, len(s1), 1):\n",
        "      if i in range (0, len(s2), 1):\n",
        "          return \"Yes, They are anagrams\"\n",
        "      else:\n",
        "        return \"No, They are not\"\n",
        "\n",
        "print(is_anagram(input(\"Enter a word: \"), input(\"Enter another word: \")))\n",
        "          \n",
        "   "
      ],
      "execution_count": 10,
      "outputs": [
        {
          "output_type": "stream",
          "name": "stdout",
          "text": [
            "Enter a word: cinema\n",
            "Enter another word: iceman\n",
            "Yes, They are anagrams\n"
          ]
        }
      ]
    },
    {
      "cell_type": "code",
      "metadata": {
        "colab": {
          "base_uri": "https://localhost:8080/"
        },
        "id": "4llKi9lAgnzs",
        "outputId": "51142079-b0cc-415e-911c-6b2e7d7956f9"
      },
      "source": [
        "#3.\n",
        "li = [\"vamshi\",\"vamshi\",\"none\"]\n",
        "def has_duplicates(li):\n",
        "  return list(set(li))\n",
        "print(has_duplicates(li))\n"
      ],
      "execution_count": 11,
      "outputs": [
        {
          "output_type": "stream",
          "name": "stdout",
          "text": [
            "['vamshi', 'none']\n"
          ]
        }
      ]
    },
    {
      "cell_type": "code",
      "metadata": {
        "colab": {
          "base_uri": "https://localhost:8080/"
        },
        "id": "HRErkFkThm0B",
        "outputId": "646c5392-9b80-44f2-c897-09cc59b69c6a"
      },
      "source": [
        "#4. \n",
        "word_list = [\"vamshi\", \"string\",\"keer\",'ihsmav', 'gnirts']\n",
        "def reverse_list(li):\n",
        "  li2 = []\n",
        "  for i in li:\n",
        "    if i[::-1] in li:\n",
        "      li2.append(i)\n",
        "  return li2\n",
        "print(reverse_list(word_list))"
      ],
      "execution_count": 18,
      "outputs": [
        {
          "output_type": "stream",
          "name": "stdout",
          "text": [
            "['vamshi', 'string', 'ihsmav', 'gnirts']\n"
          ]
        }
      ]
    },
    {
      "cell_type": "code",
      "metadata": {
        "id": "n2wh0r76j2kQ"
      },
      "source": [
        ""
      ],
      "execution_count": null,
      "outputs": []
    }
  ]
}