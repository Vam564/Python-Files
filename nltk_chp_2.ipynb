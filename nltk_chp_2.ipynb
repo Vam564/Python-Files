{
  "nbformat": 4,
  "nbformat_minor": 0,
  "metadata": {
    "colab": {
      "name": "nltk_chp_2.ipynb",
      "provenance": [],
      "collapsed_sections": [],
      "authorship_tag": "ABX9TyPz5z4A607W27Rueeoey9US",
      "include_colab_link": true
    },
    "kernelspec": {
      "name": "python3",
      "display_name": "Python 3"
    },
    "language_info": {
      "name": "python"
    }
  },
  "cells": [
    {
      "cell_type": "markdown",
      "metadata": {
        "id": "view-in-github",
        "colab_type": "text"
      },
      "source": [
        "<a href=\"https://colab.research.google.com/github/Vam564/Python-Files/blob/main/nltk_chp_2.ipynb\" target=\"_parent\"><img src=\"https://colab.research.google.com/assets/colab-badge.svg\" alt=\"Open In Colab\"/></a>"
      ]
    },
    {
      "cell_type": "markdown",
      "metadata": {
        "id": "RYNsZ-Q2hCYk"
      },
      "source": [
        "1.Define a conditional frequency distribution over the Names corpus that allows you to see which initial letters are more frequent for males vs. females (cf. NLTK Book 4.4 (Links to an external site.)). "
      ]
    },
    {
      "cell_type": "code",
      "metadata": {
        "colab": {
          "base_uri": "https://localhost:8080/"
        },
        "id": "Nm8G4aEthHSq",
        "outputId": "40e019c8-40fb-4190-9b21-4b8c85219131"
      },
      "source": [
        "\n",
        "import nltk\n",
        "nltk.download('book')\n",
        "\n"
      ],
      "execution_count": 1,
      "outputs": [
        {
          "output_type": "stream",
          "name": "stdout",
          "text": [
            "[nltk_data] Downloading collection 'book'\n",
            "[nltk_data]    | \n",
            "[nltk_data]    | Downloading package abc to /root/nltk_data...\n",
            "[nltk_data]    |   Unzipping corpora/abc.zip.\n",
            "[nltk_data]    | Downloading package brown to /root/nltk_data...\n",
            "[nltk_data]    |   Unzipping corpora/brown.zip.\n",
            "[nltk_data]    | Downloading package chat80 to /root/nltk_data...\n",
            "[nltk_data]    |   Unzipping corpora/chat80.zip.\n",
            "[nltk_data]    | Downloading package cmudict to /root/nltk_data...\n",
            "[nltk_data]    |   Unzipping corpora/cmudict.zip.\n",
            "[nltk_data]    | Downloading package conll2000 to /root/nltk_data...\n",
            "[nltk_data]    |   Unzipping corpora/conll2000.zip.\n",
            "[nltk_data]    | Downloading package conll2002 to /root/nltk_data...\n",
            "[nltk_data]    |   Unzipping corpora/conll2002.zip.\n",
            "[nltk_data]    | Downloading package dependency_treebank to\n",
            "[nltk_data]    |     /root/nltk_data...\n",
            "[nltk_data]    |   Unzipping corpora/dependency_treebank.zip.\n",
            "[nltk_data]    | Downloading package genesis to /root/nltk_data...\n",
            "[nltk_data]    |   Unzipping corpora/genesis.zip.\n",
            "[nltk_data]    | Downloading package gutenberg to /root/nltk_data...\n",
            "[nltk_data]    |   Unzipping corpora/gutenberg.zip.\n",
            "[nltk_data]    | Downloading package ieer to /root/nltk_data...\n",
            "[nltk_data]    |   Unzipping corpora/ieer.zip.\n",
            "[nltk_data]    | Downloading package inaugural to /root/nltk_data...\n",
            "[nltk_data]    |   Unzipping corpora/inaugural.zip.\n",
            "[nltk_data]    | Downloading package movie_reviews to\n",
            "[nltk_data]    |     /root/nltk_data...\n",
            "[nltk_data]    |   Unzipping corpora/movie_reviews.zip.\n",
            "[nltk_data]    | Downloading package nps_chat to /root/nltk_data...\n",
            "[nltk_data]    |   Unzipping corpora/nps_chat.zip.\n",
            "[nltk_data]    | Downloading package names to /root/nltk_data...\n",
            "[nltk_data]    |   Unzipping corpora/names.zip.\n",
            "[nltk_data]    | Downloading package ppattach to /root/nltk_data...\n",
            "[nltk_data]    |   Unzipping corpora/ppattach.zip.\n",
            "[nltk_data]    | Downloading package reuters to /root/nltk_data...\n",
            "[nltk_data]    | Downloading package senseval to /root/nltk_data...\n",
            "[nltk_data]    |   Unzipping corpora/senseval.zip.\n",
            "[nltk_data]    | Downloading package state_union to /root/nltk_data...\n",
            "[nltk_data]    |   Unzipping corpora/state_union.zip.\n",
            "[nltk_data]    | Downloading package stopwords to /root/nltk_data...\n",
            "[nltk_data]    |   Unzipping corpora/stopwords.zip.\n",
            "[nltk_data]    | Downloading package swadesh to /root/nltk_data...\n",
            "[nltk_data]    |   Unzipping corpora/swadesh.zip.\n",
            "[nltk_data]    | Downloading package timit to /root/nltk_data...\n",
            "[nltk_data]    |   Unzipping corpora/timit.zip.\n",
            "[nltk_data]    | Downloading package treebank to /root/nltk_data...\n",
            "[nltk_data]    |   Unzipping corpora/treebank.zip.\n",
            "[nltk_data]    | Downloading package toolbox to /root/nltk_data...\n",
            "[nltk_data]    |   Unzipping corpora/toolbox.zip.\n",
            "[nltk_data]    | Downloading package udhr to /root/nltk_data...\n",
            "[nltk_data]    |   Unzipping corpora/udhr.zip.\n",
            "[nltk_data]    | Downloading package udhr2 to /root/nltk_data...\n",
            "[nltk_data]    |   Unzipping corpora/udhr2.zip.\n",
            "[nltk_data]    | Downloading package unicode_samples to\n",
            "[nltk_data]    |     /root/nltk_data...\n",
            "[nltk_data]    |   Unzipping corpora/unicode_samples.zip.\n",
            "[nltk_data]    | Downloading package webtext to /root/nltk_data...\n",
            "[nltk_data]    |   Unzipping corpora/webtext.zip.\n",
            "[nltk_data]    | Downloading package wordnet to /root/nltk_data...\n",
            "[nltk_data]    |   Unzipping corpora/wordnet.zip.\n",
            "[nltk_data]    | Downloading package wordnet_ic to /root/nltk_data...\n",
            "[nltk_data]    |   Unzipping corpora/wordnet_ic.zip.\n",
            "[nltk_data]    | Downloading package words to /root/nltk_data...\n",
            "[nltk_data]    |   Unzipping corpora/words.zip.\n",
            "[nltk_data]    | Downloading package maxent_treebank_pos_tagger to\n",
            "[nltk_data]    |     /root/nltk_data...\n",
            "[nltk_data]    |   Unzipping taggers/maxent_treebank_pos_tagger.zip.\n",
            "[nltk_data]    | Downloading package maxent_ne_chunker to\n",
            "[nltk_data]    |     /root/nltk_data...\n",
            "[nltk_data]    |   Unzipping chunkers/maxent_ne_chunker.zip.\n",
            "[nltk_data]    | Downloading package universal_tagset to\n",
            "[nltk_data]    |     /root/nltk_data...\n",
            "[nltk_data]    |   Unzipping taggers/universal_tagset.zip.\n",
            "[nltk_data]    | Downloading package punkt to /root/nltk_data...\n",
            "[nltk_data]    |   Unzipping tokenizers/punkt.zip.\n",
            "[nltk_data]    | Downloading package book_grammars to\n",
            "[nltk_data]    |     /root/nltk_data...\n",
            "[nltk_data]    |   Unzipping grammars/book_grammars.zip.\n",
            "[nltk_data]    | Downloading package city_database to\n",
            "[nltk_data]    |     /root/nltk_data...\n",
            "[nltk_data]    |   Unzipping corpora/city_database.zip.\n",
            "[nltk_data]    | Downloading package tagsets to /root/nltk_data...\n",
            "[nltk_data]    |   Unzipping help/tagsets.zip.\n",
            "[nltk_data]    | Downloading package panlex_swadesh to\n",
            "[nltk_data]    |     /root/nltk_data...\n",
            "[nltk_data]    | Downloading package averaged_perceptron_tagger to\n",
            "[nltk_data]    |     /root/nltk_data...\n",
            "[nltk_data]    |   Unzipping taggers/averaged_perceptron_tagger.zip.\n",
            "[nltk_data]    | \n",
            "[nltk_data]  Done downloading collection book\n"
          ]
        },
        {
          "output_type": "execute_result",
          "data": {
            "text/plain": [
              "True"
            ]
          },
          "metadata": {},
          "execution_count": 1
        }
      ]
    },
    {
      "cell_type": "code",
      "metadata": {
        "colab": {
          "base_uri": "https://localhost:8080/"
        },
        "id": "kFdZgRiQkJTD",
        "outputId": "b451170d-8cc4-4b3d-9a4b-31d01506fac9"
      },
      "source": [
        "nltk.download('names')"
      ],
      "execution_count": 3,
      "outputs": [
        {
          "output_type": "stream",
          "name": "stdout",
          "text": [
            "[nltk_data] Downloading package names to /root/nltk_data...\n",
            "[nltk_data]   Package names is already up-to-date!\n"
          ]
        },
        {
          "output_type": "execute_result",
          "data": {
            "text/plain": [
              "True"
            ]
          },
          "metadata": {},
          "execution_count": 3
        }
      ]
    },
    {
      "cell_type": "code",
      "metadata": {
        "colab": {
          "base_uri": "https://localhost:8080/"
        },
        "id": "ovZhnWMTkkd5",
        "outputId": "1f5e30ac-fe01-4b10-843a-aed75e1c06d0"
      },
      "source": [
        "names = nltk.corpus.names\n",
        "names.fileids()"
      ],
      "execution_count": 4,
      "outputs": [
        {
          "output_type": "execute_result",
          "data": {
            "text/plain": [
              "['female.txt', 'male.txt']"
            ]
          },
          "metadata": {},
          "execution_count": 4
        }
      ]
    },
    {
      "cell_type": "code",
      "metadata": {
        "colab": {
          "base_uri": "https://localhost:8080/"
        },
        "id": "uxkwX-0Ak3ZF",
        "outputId": "481739ab-eead-4600-819c-47ddcbc847ae"
      },
      "source": [
        "male_names = names.words('male.txt')\n",
        "female_names = names.words('female.txt')\n",
        "[w for w in male_names if w in female_names]"
      ],
      "execution_count": 5,
      "outputs": [
        {
          "output_type": "execute_result",
          "data": {
            "text/plain": [
              "['Abbey',\n",
              " 'Abbie',\n",
              " 'Abby',\n",
              " 'Addie',\n",
              " 'Adrian',\n",
              " 'Adrien',\n",
              " 'Ajay',\n",
              " 'Alex',\n",
              " 'Alexis',\n",
              " 'Alfie',\n",
              " 'Ali',\n",
              " 'Alix',\n",
              " 'Allie',\n",
              " 'Allyn',\n",
              " 'Andie',\n",
              " 'Andrea',\n",
              " 'Andy',\n",
              " 'Angel',\n",
              " 'Angie',\n",
              " 'Ariel',\n",
              " 'Ashley',\n",
              " 'Aubrey',\n",
              " 'Augustine',\n",
              " 'Austin',\n",
              " 'Averil',\n",
              " 'Barrie',\n",
              " 'Barry',\n",
              " 'Beau',\n",
              " 'Bennie',\n",
              " 'Benny',\n",
              " 'Bernie',\n",
              " 'Bert',\n",
              " 'Bertie',\n",
              " 'Bill',\n",
              " 'Billie',\n",
              " 'Billy',\n",
              " 'Blair',\n",
              " 'Blake',\n",
              " 'Bo',\n",
              " 'Bobbie',\n",
              " 'Bobby',\n",
              " 'Brandy',\n",
              " 'Brett',\n",
              " 'Britt',\n",
              " 'Brook',\n",
              " 'Brooke',\n",
              " 'Brooks',\n",
              " 'Bryn',\n",
              " 'Cal',\n",
              " 'Cam',\n",
              " 'Cammy',\n",
              " 'Carey',\n",
              " 'Carlie',\n",
              " 'Carlin',\n",
              " 'Carmine',\n",
              " 'Carroll',\n",
              " 'Cary',\n",
              " 'Caryl',\n",
              " 'Casey',\n",
              " 'Cass',\n",
              " 'Cat',\n",
              " 'Cecil',\n",
              " 'Chad',\n",
              " 'Chris',\n",
              " 'Chrissy',\n",
              " 'Christian',\n",
              " 'Christie',\n",
              " 'Christy',\n",
              " 'Clair',\n",
              " 'Claire',\n",
              " 'Clare',\n",
              " 'Claude',\n",
              " 'Clem',\n",
              " 'Clemmie',\n",
              " 'Cody',\n",
              " 'Connie',\n",
              " 'Constantine',\n",
              " 'Corey',\n",
              " 'Corrie',\n",
              " 'Cory',\n",
              " 'Courtney',\n",
              " 'Cris',\n",
              " 'Daffy',\n",
              " 'Dale',\n",
              " 'Dallas',\n",
              " 'Dana',\n",
              " 'Dani',\n",
              " 'Daniel',\n",
              " 'Dannie',\n",
              " 'Danny',\n",
              " 'Darby',\n",
              " 'Darcy',\n",
              " 'Darryl',\n",
              " 'Daryl',\n",
              " 'Deane',\n",
              " 'Del',\n",
              " 'Dell',\n",
              " 'Demetris',\n",
              " 'Dennie',\n",
              " 'Denny',\n",
              " 'Devin',\n",
              " 'Devon',\n",
              " 'Dion',\n",
              " 'Dionis',\n",
              " 'Dominique',\n",
              " 'Donnie',\n",
              " 'Donny',\n",
              " 'Dorian',\n",
              " 'Dory',\n",
              " 'Drew',\n",
              " 'Eddie',\n",
              " 'Eddy',\n",
              " 'Edie',\n",
              " 'Elisha',\n",
              " 'Emmy',\n",
              " 'Erin',\n",
              " 'Esme',\n",
              " 'Evelyn',\n",
              " 'Felice',\n",
              " 'Fran',\n",
              " 'Francis',\n",
              " 'Frank',\n",
              " 'Frankie',\n",
              " 'Franky',\n",
              " 'Fred',\n",
              " 'Freddie',\n",
              " 'Freddy',\n",
              " 'Gabriel',\n",
              " 'Gabriell',\n",
              " 'Gail',\n",
              " 'Gale',\n",
              " 'Gay',\n",
              " 'Gayle',\n",
              " 'Gene',\n",
              " 'George',\n",
              " 'Georgia',\n",
              " 'Georgie',\n",
              " 'Geri',\n",
              " 'Germaine',\n",
              " 'Gerri',\n",
              " 'Gerry',\n",
              " 'Gill',\n",
              " 'Ginger',\n",
              " 'Glen',\n",
              " 'Glenn',\n",
              " 'Grace',\n",
              " 'Gretchen',\n",
              " 'Gus',\n",
              " 'Haleigh',\n",
              " 'Haley',\n",
              " 'Hannibal',\n",
              " 'Harley',\n",
              " 'Hazel',\n",
              " 'Heath',\n",
              " 'Henrie',\n",
              " 'Hilary',\n",
              " 'Hillary',\n",
              " 'Holly',\n",
              " 'Ike',\n",
              " 'Ikey',\n",
              " 'Ira',\n",
              " 'Isa',\n",
              " 'Isador',\n",
              " 'Isadore',\n",
              " 'Jackie',\n",
              " 'Jaime',\n",
              " 'Jamie',\n",
              " 'Jan',\n",
              " 'Jean',\n",
              " 'Jere',\n",
              " 'Jermaine',\n",
              " 'Jerrie',\n",
              " 'Jerry',\n",
              " 'Jess',\n",
              " 'Jesse',\n",
              " 'Jessie',\n",
              " 'Jo',\n",
              " 'Jodi',\n",
              " 'Jodie',\n",
              " 'Jody',\n",
              " 'Joey',\n",
              " 'Jordan',\n",
              " 'Juanita',\n",
              " 'Jude',\n",
              " 'Judith',\n",
              " 'Judy',\n",
              " 'Julie',\n",
              " 'Justin',\n",
              " 'Karel',\n",
              " 'Kellen',\n",
              " 'Kelley',\n",
              " 'Kelly',\n",
              " 'Kelsey',\n",
              " 'Kerry',\n",
              " 'Kim',\n",
              " 'Kip',\n",
              " 'Kirby',\n",
              " 'Kit',\n",
              " 'Kris',\n",
              " 'Kyle',\n",
              " 'Lane',\n",
              " 'Lanny',\n",
              " 'Lauren',\n",
              " 'Laurie',\n",
              " 'Lee',\n",
              " 'Leigh',\n",
              " 'Leland',\n",
              " 'Lesley',\n",
              " 'Leslie',\n",
              " 'Lin',\n",
              " 'Lind',\n",
              " 'Lindsay',\n",
              " 'Lindsey',\n",
              " 'Lindy',\n",
              " 'Lonnie',\n",
              " 'Loren',\n",
              " 'Lorne',\n",
              " 'Lorrie',\n",
              " 'Lou',\n",
              " 'Luce',\n",
              " 'Lyn',\n",
              " 'Lynn',\n",
              " 'Maddie',\n",
              " 'Maddy',\n",
              " 'Marietta',\n",
              " 'Marion',\n",
              " 'Marlo',\n",
              " 'Martie',\n",
              " 'Marty',\n",
              " 'Mattie',\n",
              " 'Matty',\n",
              " 'Maurise',\n",
              " 'Max',\n",
              " 'Maxie',\n",
              " 'Mead',\n",
              " 'Meade',\n",
              " 'Mel',\n",
              " 'Meredith',\n",
              " 'Merle',\n",
              " 'Merrill',\n",
              " 'Merry',\n",
              " 'Meryl',\n",
              " 'Michal',\n",
              " 'Michel',\n",
              " 'Michele',\n",
              " 'Mickie',\n",
              " 'Micky',\n",
              " 'Millicent',\n",
              " 'Morgan',\n",
              " 'Morlee',\n",
              " 'Muffin',\n",
              " 'Nat',\n",
              " 'Nichole',\n",
              " 'Nickie',\n",
              " 'Nicky',\n",
              " 'Niki',\n",
              " 'Nikki',\n",
              " 'Noel',\n",
              " 'Ollie',\n",
              " 'Page',\n",
              " 'Paige',\n",
              " 'Pat',\n",
              " 'Patrice',\n",
              " 'Patsy',\n",
              " 'Pattie',\n",
              " 'Patty',\n",
              " 'Pen',\n",
              " 'Pennie',\n",
              " 'Penny',\n",
              " 'Perry',\n",
              " 'Phil',\n",
              " 'Pooh',\n",
              " 'Quentin',\n",
              " 'Quinn',\n",
              " 'Randi',\n",
              " 'Randie',\n",
              " 'Randy',\n",
              " 'Ray',\n",
              " 'Regan',\n",
              " 'Reggie',\n",
              " 'Rene',\n",
              " 'Rey',\n",
              " 'Ricki',\n",
              " 'Rickie',\n",
              " 'Ricky',\n",
              " 'Rikki',\n",
              " 'Robbie',\n",
              " 'Robin',\n",
              " 'Ronnie',\n",
              " 'Ronny',\n",
              " 'Rory',\n",
              " 'Ruby',\n",
              " 'Sal',\n",
              " 'Sam',\n",
              " 'Sammy',\n",
              " 'Sandy',\n",
              " 'Sascha',\n",
              " 'Sasha',\n",
              " 'Saundra',\n",
              " 'Sayre',\n",
              " 'Scotty',\n",
              " 'Sean',\n",
              " 'Shaine',\n",
              " 'Shane',\n",
              " 'Shannon',\n",
              " 'Shaun',\n",
              " 'Shawn',\n",
              " 'Shay',\n",
              " 'Shayne',\n",
              " 'Shea',\n",
              " 'Shelby',\n",
              " 'Shell',\n",
              " 'Shelley',\n",
              " 'Sibyl',\n",
              " 'Simone',\n",
              " 'Sonnie',\n",
              " 'Sonny',\n",
              " 'Stacy',\n",
              " 'Sunny',\n",
              " 'Sydney',\n",
              " 'Tabbie',\n",
              " 'Tabby',\n",
              " 'Tallie',\n",
              " 'Tally',\n",
              " 'Tammie',\n",
              " 'Tammy',\n",
              " 'Tate',\n",
              " 'Ted',\n",
              " 'Teddie',\n",
              " 'Teddy',\n",
              " 'Terri',\n",
              " 'Terry',\n",
              " 'Theo',\n",
              " 'Tim',\n",
              " 'Timmie',\n",
              " 'Timmy',\n",
              " 'Tobe',\n",
              " 'Tobie',\n",
              " 'Toby',\n",
              " 'Tommie',\n",
              " 'Tommy',\n",
              " 'Tony',\n",
              " 'Torey',\n",
              " 'Trace',\n",
              " 'Tracey',\n",
              " 'Tracie',\n",
              " 'Tracy',\n",
              " 'Val',\n",
              " 'Vale',\n",
              " 'Valentine',\n",
              " 'Van',\n",
              " 'Vin',\n",
              " 'Vinnie',\n",
              " 'Vinny',\n",
              " 'Virgie',\n",
              " 'Wallie',\n",
              " 'Wallis',\n",
              " 'Wally',\n",
              " 'Whitney',\n",
              " 'Willi',\n",
              " 'Willie',\n",
              " 'Willy',\n",
              " 'Winnie',\n",
              " 'Winny',\n",
              " 'Wynn']"
            ]
          },
          "metadata": {},
          "execution_count": 5
        }
      ]
    },
    {
      "cell_type": "code",
      "metadata": {
        "colab": {
          "base_uri": "https://localhost:8080/",
          "height": 280
        },
        "id": "3HX_sSuHlDaD",
        "outputId": "fd83b6f4-4b7f-46b7-d11b-9dc734ae5d76"
      },
      "source": [
        "cfd = nltk.ConditionalFreqDist(\n",
        "           (fileid, name[0])\n",
        "           for fileid in names.fileids()\n",
        "           for name in names.words(fileid))\n",
        "cfd.plot()"
      ],
      "execution_count": 6,
      "outputs": [
        {
          "output_type": "display_data",
          "data": {
            "image/png": "[encoded data removed]",
            "text/plain": [
              "<Figure size 432x288 with 1 Axes>"
            ]
          },
          "metadata": {
            "needs_background": "light"
          }
        }
      ]
    },
    {
      "cell_type": "code",
      "metadata": {
        "colab": {
          "base_uri": "https://localhost:8080/"
        },
        "id": "Ee2E-jL0lYAe",
        "outputId": "86a7cf27-c11f-4c46-b673-de1f4a32cfa4"
      },
      "source": [
        "#2. \n",
        "from nltk.corpus import gutenberg\n",
        "gutenberg.fileids()\n"
      ],
      "execution_count": 23,
      "outputs": [
        {
          "output_type": "execute_result",
          "data": {
            "text/plain": [
              "['austen-emma.txt',\n",
              " 'austen-persuasion.txt',\n",
              " 'austen-sense.txt',\n",
              " 'bible-kjv.txt',\n",
              " 'blake-poems.txt',\n",
              " 'bryant-stories.txt',\n",
              " 'burgess-busterbrown.txt',\n",
              " 'carroll-alice.txt',\n",
              " 'chesterton-ball.txt',\n",
              " 'chesterton-brown.txt',\n",
              " 'chesterton-thursday.txt',\n",
              " 'edgeworth-parents.txt',\n",
              " 'melville-moby_dick.txt',\n",
              " 'milton-paradise.txt',\n",
              " 'shakespeare-caesar.txt',\n",
              " 'shakespeare-hamlet.txt',\n",
              " 'shakespeare-macbeth.txt',\n",
              " 'whitman-leaves.txt']"
            ]
          },
          "metadata": {},
          "execution_count": 23
        }
      ]
    },
    {
      "cell_type": "code",
      "metadata": {
        "colab": {
          "base_uri": "https://localhost:8080/"
        },
        "id": "WBKa7V7FqIAB",
        "outputId": "2c221138-c622-4510-fd8e-d50d1eae5f13"
      },
      "source": [
        "text1_data = nltk.Text(gutenberg.words('austen-emma.txt'))\n",
        "text2_data = nltk.Text(gutenberg.words('austen-persuasion.txt'))\n",
        "text1_fd = nltk.FreqDist(text1_data)\n",
        "text2_fd = nltk.FreqDist(text2_data)\n",
        "print(text1_fd.most_common(50)) \n",
        "print(text2_fd.most_common(50))\n",
        "print(text1_data.concordance('receipt'))\n",
        "print(text2_data.concordance('receipt'))\n",
        "gutenberg.fileids()[0:2]\n",
        "for fileid in gutenberg.fileids()[0:2]:\n",
        "    num_chars = len(gutenberg.raw(fileid))\n",
        "    num_words = len(gutenberg.words(fileid))\n",
        "    num_sents = len(gutenberg.sents(fileid))\n",
        "    num_vocab = len(set(w.lower() for w in gutenberg.words(fileid)))\n",
        "    print(round(num_chars/num_words), round(num_words/num_sents), round(num_words/num_vocab), fileid)\n"
      ],
      "execution_count": 52,
      "outputs": [
        {
          "output_type": "stream",
          "name": "stdout",
          "text": [
            "[(',', 11454), ('.', 6928), ('to', 5183), ('the', 4844), ('and', 4672), ('of', 4279), ('I', 3178), ('a', 3004), ('was', 2385), ('her', 2381), (';', 2199), ('it', 2128), ('in', 2118), ('not', 2101), ('\"', 2004), ('be', 1970), ('she', 1778), ('that', 1730), ('you', 1677), ('had', 1606), ('as', 1387), ('--', 1382), ('he', 1365), ('for', 1321), ('have', 1301), ('is', 1220), ('with', 1187), ('Mr', 1153), ('very', 1151), ('but', 1148), ('.\"', 1138), ('his', 1088), (\"'\", 1007), ('at', 997), ('s', 933), ('so', 924), ('Emma', 865), ('all', 835), ('could', 825), ('would', 815), ('been', 759), ('him', 758), ('Mrs', 699), ('.--', 685), ('on', 677), ('any', 651), ('my', 619), ('no', 616), ('Miss', 592), ('were', 591)]\n",
            "[(',', 6750), ('the', 3120), ('to', 2775), ('.', 2741), ('and', 2739), ('of', 2564), ('a', 1529), ('in', 1346), ('was', 1330), (';', 1290), ('had', 1177), ('her', 1159), ('I', 1124), ('be', 949), ('not', 926), ('it', 857), ('that', 853), ('she', 819), ('\"', 793), ('as', 787), ('he', 736), ('for', 695), ('with', 643), ('his', 625), ('have', 583), ('but', 553), ('you', 548), (\"'\", 525), ('at', 519), ('all', 517), ('Anne', 497), ('been', 496), ('s', 485), ('him', 467), ('could', 444), ('were', 426), ('very', 425), ('which', 415), ('by', 411), ('is', 393), ('on', 386), ('.\"', 369), ('would', 351), ('so', 338), ('She', 327), ('they', 323), ('no', 309), ('-', 308), ('Captain', 297), ('Mrs', 291)]\n",
            "Displaying 1 of 1 matches:\n",
            "ap indeed .-- She promised Wright a receipt , and never sent it .\" \" I met Will\n",
            "None\n",
            "Displaying 1 of 1 matches:\n",
            "umstance to mark them excepting the receipt of a note or two from Lyme , which \n",
            "None\n",
            "5 25 26 austen-emma.txt\n",
            "5 26 17 austen-persuasion.txt\n"
          ]
        }
      ]
    },
    {
      "cell_type": "code",
      "metadata": {
        "colab": {
          "base_uri": "https://localhost:8080/"
        },
        "id": "_nZ5KAWWrhD6",
        "outputId": "01bd1c99-a8c3-4e39-c3dc-03f8c7c6b264"
      },
      "source": [
        "#3.\n",
        "from nltk.corpus import cmudict\n",
        "words = [word for word,pron in cmudict.entries() ]\n",
        "wordset=set(words)\n",
        "CMU=cmudict.dict()\n",
        "print(len(words))\n",
        "print(len(wordset))\n",
        "more_than_one_pron=[word for word in wordset if len(CMU.get(word))>1]\n",
        "print(len(more_than_one_pron)/len(wordset)*100,\"% words have more than one pronounciation\")"
      ],
      "execution_count": 54,
      "outputs": [
        {
          "output_type": "stream",
          "name": "stdout",
          "text": [
            "133737\n",
            "123455\n",
            "7.485318537118789 % words have more than one pronounciation\n"
          ]
        }
      ]
    },
    {
      "cell_type": "code",
      "metadata": {
        "colab": {
          "base_uri": "https://localhost:8080/"
        },
        "id": "sdqfQ3nmyiiN",
        "outputId": "4b0ec805-029f-4445-a10f-b1f06d73463e"
      },
      "source": [
        "#4.\n",
        "def hegde(sentence):\n",
        "  dup = \"0 \" + sentence\n",
        "  list_words = dup.split()\n",
        "  for i in range(0,len(list_words)):\n",
        "    if i != 0:\n",
        "      if i%3 == 0:\n",
        "        list_words[i] = list_words[i] + \" like\"\n",
        "  list_words.remove('0')\n",
        "  print(' '.join(list_words))\n",
        "hegde(\"how are you doing in this pretty competetion world\")\n"
      ],
      "execution_count": 83,
      "outputs": [
        {
          "output_type": "stream",
          "name": "stdout",
          "text": [
            "how are you like doing in this like pretty competetion world like\n"
          ]
        }
      ]
    },
    {
      "cell_type": "code",
      "metadata": {
        "colab": {
          "base_uri": "https://localhost:8080/"
        },
        "id": "y2kOpHlw03ZE",
        "outputId": "6c0e99e3-c7ef-43a7-9c98-c7e837bfa63e"
      },
      "source": [
        "#5.\n",
        "def shorten(text, n):\n",
        "    assert isinstance(text, list), \"The text should be a list of words\"\n",
        "    most_frequent_words = set(w for (w,f) in nltk.FreqDist(text).most_common(n))\n",
        "    return [w for w in text if w not in most_frequent_words]\n",
        "\n",
        "text = \"how are you doing in this pretty doing doing competetion world you you you you\".split()\n",
        "print(shorten(text,2))"
      ],
      "execution_count": 93,
      "outputs": [
        {
          "output_type": "stream",
          "name": "stdout",
          "text": [
            "['how', 'are', 'in', 'this', 'pretty', 'competetion', 'world']\n"
          ]
        }
      ]
    },
    {
      "cell_type": "code",
      "metadata": {
        "colab": {
          "base_uri": "https://localhost:8080/"
        },
        "id": "jX0hgUzk5qEB",
        "outputId": "5f6ded66-f9d5-45db-c7ba-5fb92ab3193c"
      },
      "source": [
        "#6.\n",
        "from nltk import word_tokenize\n",
        "import re\n",
        "f = open('/home/text2.txt')\n",
        "raw = f.read()\n",
        "raw = raw.lower()\n",
        "def convert_to_hacker(text):\n",
        "\tnew_text = []\n",
        "\tpattern = re.compile(r'ate')\n",
        "\ttext = pattern.sub('8', text) \n",
        "\tpattern = re.compile(r'[eiols]|\\.')\n",
        "\tfor w in text:\n",
        "\t\tif re.search(pattern, w):\n",
        "\t\t\tif w == 'e':\n",
        "\t\t\t\tw = '3'\n",
        "\t\t\telif w == 'i':\n",
        "\t\t\t\tw = '1'\n",
        "\t\t\telif w == 'o':\n",
        "\t\t\t\tw = '0'\n",
        "\t\t\telif w == 's':\n",
        "\t\t\t\tw = '5'\n",
        "\t\t\telif w == 'l':\n",
        "\t\t\t\tw = '|'\n",
        "\t\t\telif w == '.':\n",
        "\t\t\t\tw = '5w33t!'\n",
        "\t\tnew_text.extend(w)\n",
        "\tnew_text = ''.join(new_text)\n",
        "\tpattern = re.compile(r'\\b5')\n",
        "\tnew_text = pattern.sub('$', new_text)\n",
        "\treturn new_text\n",
        "text = convert_to_hacker(raw)\n",
        "print(text)"
      ],
      "execution_count": 96,
      "outputs": [
        {
          "output_type": "stream",
          "name": "stdout",
          "text": [
            "th3 $t0r135 and th3 $t0ry-t3||3r5\n",
            "\n",
            "\n",
            "th3 $t0r135 1n th15 b00k d3a| w1th p30p|35 0f w1d3|y d1ff3r3nt\n",
            "$urr0und1ng5 and hab1t—$0m3 w1th dw3||3r5 0n th3 $3a-$h0r3, wh053 $k135\n",
            "ar3 0ft3n 0b5cur3d by ra1n and f0g, wh0 draw th31r |1v1ng fr0m th3 $3a,\n",
            "and ar3 at h0m3 0n th3 w8r; and 0th3r5 w1th 1nhab1tant5 0f th3 h1gh\n",
            "p|a1n5, wh3r3 th3 a1r 15 pur3 and dry, and th3 $umm3r $un 15 rar3|y\n",
            "h1dd3n by c|0ud55w33t!\n",
            "\n",
            "a5 th3 1nd1an5 hav3 n0 wr1tt3n charact3r5, m3m0rab|3 3v3nt5 ar3\n",
            "r3ta1n3d 0n|y 1n th3 m1nd5 0f th3 p30p|3, and ar3 hand3d d0wn by th3\n",
            "3|d3r5 t0 th31r ch1|dr3n, and by th353 aga1n tran5m1tt3d t0 th31r\n",
            "ch1|dr3n, $0 pa551ng fr0m g3n3rat10n t0 g3n3rat10n5w33t! unt1| r3c3nt y3ar5,\n",
            "0n3 0f th3 $acr3d dut135 0f c3rta1n 3|d3r5 0f th3 tr1b35 wa5 th3\n",
            "hand1ng d0wn 0f th353 h15t0r135 t0 th31r $ucc3550r55w33t! a5 th3y r3p38d\n",
            "th3m, th3y 1mpr3553d up0n th3 h3ar3r th3 1mp0rtanc3 0f r3m3mb3r1ng th3\n",
            "$t0r135 pr3c153|y a5 t0|d, and 0f t3||1ng th3m aga1n 3xact|y a5 h3 had\n",
            "r3c31v3d th3m, n31th3r add1ng n0r tak1ng away anyth1ng5w33t! thu5 3ar|y\n",
            "taught h15 duty, 3ach |15t3n3r $tr0v3 t0 p3rf0rm 1t, and t0 1mpr355 0n\n",
            "th053 wh0m h3 1n turn 1n5truct3d a $1m1|ar 0b|1gat10n5w33t!\n",
            "\n",
            "1n tran5cr1b1ng $t0r135 $uch a5 th353, car3 mu5t b3 u53d t0 tak3 d0wn\n",
            "ju5t what th3 narrat0r $ay55w33t! th3 $t0r135 mu5t b3 r3pr0duc3d a5 th3y ar3\n",
            "t0|d; 0th3rw153 th3y |053 that pr1m1t1v3 f|av0r wh1ch 15 0ft3n 0n3 0f\n",
            "th31r ch13f charm55w33t! 1n th31r tru3 f0rm th3y ar3 fu|| 0f human natur3,\n",
            "fu|| 0f unc0n5c10u5 $ugg35t10n a5 t0 h0w th3 pr1m1t1v3 m1nd w0rk3d, and\n",
            "fu|| a|$0 0f h1nt5 a5 t0 th3 cu5t0m5 and |1f3 0f th3 p30p|3 1n th3 0|d\n",
            "day55w33t!\n",
            "\n",
            "$38d by th3 f|1ck3r1ng f1r3 1n b|ackf00t $k1n-|0dg3, 0r 1n pawn33\n",
            "d1rt-h0u53, 0r 1n $3a-$h0r3 dw3||1ng 0n th3 n0rthw35t c0a5t, 1 hav3\n",
            "r3c31v3d th353 $t0r135 fr0m th3 |1p5 0f ag3d h15t0r1an5, and hav3 $3t\n",
            "th3m d0wn h3r3 a5 1 hav3 h3ard th3m5w33t!\n"
          ]
        }
      ]
    },
    {
      "cell_type": "code",
      "metadata": {
        "colab": {
          "base_uri": "https://localhost:8080/"
        },
        "id": "CvQpY5ux7zUT",
        "outputId": "72270bca-499c-4d65-c5f9-aea0b467bfb9"
      },
      "source": [
        "#7.\n",
        "from nltk.corpus import brown\n",
        "\n",
        "def average_num_words_per_sentence(text, category):\n",
        "\tsent_num = len(text.sents(categories=category))\n",
        "\tword_num = len(text.words(categories=category))\n",
        "\treturn word_num / sent_num\n",
        "\n",
        "def average_num_letters(text, category):\n",
        "\tword_num = len(text.words(categories=category))\n",
        "\tsmash_text = ''.join(text.words(categories=category))\n",
        "\tletters_len = len(smash_text)\n",
        "\treturn letters_len / word_num\n",
        "\n",
        "def ari(text, category):\n",
        "\tuw = average_num_letters(text, category)\n",
        "\tus = average_num_words_per_sentence(text, category)\n",
        "\tari = (4.71 * uw ) + ( 0.5 * us ) - 21.43\n",
        "\treturn ari\n",
        "\n",
        "\n",
        "for category in brown.categories():\n",
        "\tprint(category + ': ' + str(ari(brown, category)))"
      ],
      "execution_count": 97,
      "outputs": [
        {
          "output_type": "stream",
          "name": "stdout",
          "text": [
            "adventure: 4.0841684990890705\n",
            "belles_lettres: 10.987652885621749\n",
            "editorial: 9.471025332953673\n",
            "fiction: 4.9104735321302115\n",
            "government: 12.08430349501021\n",
            "hobbies: 8.922356393630267\n",
            "humor: 7.887805248319808\n",
            "learned: 11.926007043317348\n",
            "lore: 10.254756197101155\n",
            "mystery: 3.8335518942055167\n",
            "news: 10.176684595052684\n",
            "religion: 10.203109907301261\n",
            "reviews: 10.769699888473433\n",
            "romance: 4.34922419804213\n",
            "science_fiction: 4.978058336905399\n"
          ]
        }
      ]
    },
    {
      "cell_type": "code",
      "metadata": {
        "colab": {
          "base_uri": "https://localhost:8080/"
        },
        "id": "L3XNzI6s95Y3",
        "outputId": "2f20b50a-65ef-417b-f2c2-d00e3d31e145"
      },
      "source": [
        "#8.\n",
        "'inexpressible'.index('re')"
      ],
      "execution_count": 99,
      "outputs": [
        {
          "output_type": "execute_result",
          "data": {
            "text/plain": [
              "5"
            ]
          },
          "metadata": {},
          "execution_count": 99
        }
      ]
    },
    {
      "cell_type": "code",
      "metadata": {
        "colab": {
          "base_uri": "https://localhost:8080/"
        },
        "id": "yGWoTHC5-lgd",
        "outputId": "477e2289-be38-44db-cce6-a1937d8b4f1f"
      },
      "source": [
        "words = [\"silly\", \"express\", \"deluxerooms\" ,\"acrooms\"]\n",
        "for w in words:\n",
        "  print(words.index(w))\n"
      ],
      "execution_count": 118,
      "outputs": [
        {
          "output_type": "stream",
          "name": "stdout",
          "text": [
            "0\n",
            "1\n",
            "2\n",
            "3\n"
          ]
        }
      ]
    },
    {
      "cell_type": "code",
      "metadata": {
        "colab": {
          "base_uri": "https://localhost:8080/"
        },
        "id": "5rW_r6VfEQEx",
        "outputId": "e355486d-93ea-4349-e49d-81d6d7498916"
      },
      "source": [
        "silly = [\"silly\", \"express\",\"in\", \"deluxerooms\" ,\"acrooms\"]\n",
        "silly.index(\"in\")\n",
        "silly = silly[:silly.index(\"in\")]\n",
        "print(silly)"
      ],
      "execution_count": 117,
      "outputs": [
        {
          "output_type": "stream",
          "name": "stdout",
          "text": [
            "['silly', 'express']\n"
          ]
        }
      ]
    },
    {
      "cell_type": "code",
      "metadata": {
        "colab": {
          "base_uri": "https://localhost:8080/"
        },
        "id": "ca9hZPmK_CcK",
        "outputId": "a1125d9d-1287-441b-ca0f-0d206ff4456e"
      },
      "source": [
        "#9\n",
        "words = ['attribution', 'confabulation', 'elocution', 'sequoia', 'tenacious', 'unidirectional']\n",
        "vsequences = set()\n",
        "vowels = []\n",
        "vsequences = set([''.join([char for char in word if char in 'aeiou']) for word in words])\n",
        "print(sorted(vsequences))"
      ],
      "execution_count": 109,
      "outputs": [
        {
          "output_type": "stream",
          "name": "stdout",
          "text": [
            "['aiuio', 'eaiou', 'eouio', 'euoia', 'oauaio', 'uiieioa']\n"
          ]
        }
      ]
    },
    {
      "cell_type": "code",
      "metadata": {
        "colab": {
          "base_uri": "https://localhost:8080/",
          "height": 265
        },
        "id": "rjetqxwVBc8H",
        "outputId": "124fdee4-59b0-4856-f201-dbd2c03f4552"
      },
      "source": [
        "#Zipf law\n",
        "from matplotlib import pyplot\n",
        "import random\n",
        "def zipfs_law(text,n):\n",
        "    text_fd=nltk.FreqDist(text)\n",
        "    text_fd_common=text_fd.most_common(n)\n",
        "    freqs=[y for x,y in text_fd_common]\n",
        "    ranks=[1/freq for freq in freqs]\n",
        "    pyplot.plot(ranks,freqs)\n",
        "\n",
        "zipfs_law(nltk.corpus.gutenberg.words('austen-sense.txt'),50)\n",
        "\n",
        "random_text=''\n",
        "for i in range(0,random.randrange(10000,1000000)):\n",
        "    random_text+=random.choice(\"abcdefg \")\n",
        "\n",
        "zipfs_law(random_text.split(' '),100)\n",
        "#yes it is almost inversely proportion"
      ],
      "execution_count": 112,
      "outputs": [
        {
          "output_type": "display_data",
          "data": {
            "image/png": "[encoded data removed]",
            "text/plain": [
              "<Figure size 432x288 with 1 Axes>"
            ]
          },
          "metadata": {
            "needs_background": "light"
          }
        }
      ]
    },
    {
      "cell_type": "code",
      "metadata": {
        "id": "SQxgbCQkCI2z"
      },
      "source": [
        ""
      ],
      "execution_count": null,
      "outputs": []
    }
  ]
}